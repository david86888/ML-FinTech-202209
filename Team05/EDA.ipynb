{
 "cells": [
  {
   "cell_type": "code",
   "execution_count": 12,
   "id": "57f9657f",
   "metadata": {},
   "outputs": [],
   "source": [
    "import pandas as pd\n",
    "import numpy as np \n",
    "import matplotlib.pyplot as plt\n",
    "import seaborn as sns\n",
    "from pandas.core.frame import DataFrame"
   ]
  },
  {
   "cell_type": "code",
   "execution_count": 13,
   "id": "6d11f7dc",
   "metadata": {},
   "outputs": [
    {
     "data": {
      "text/html": [
       "<div>\n",
       "<style scoped>\n",
       "    .dataframe tbody tr th:only-of-type {\n",
       "        vertical-align: middle;\n",
       "    }\n",
       "\n",
       "    .dataframe tbody tr th {\n",
       "        vertical-align: top;\n",
       "    }\n",
       "\n",
       "    .dataframe thead th {\n",
       "        text-align: right;\n",
       "    }\n",
       "</style>\n",
       "<table border=\"1\" class=\"dataframe\">\n",
       "  <thead>\n",
       "    <tr style=\"text-align: right;\">\n",
       "      <th></th>\n",
       "      <th>表頭</th>\n",
       "      <th>中文名稱</th>\n",
       "      <th>表頭.1</th>\n",
       "      <th>中文名稱.1</th>\n",
       "      <th>表頭.2</th>\n",
       "      <th>中文名稱.2</th>\n",
       "      <th>表頭.3</th>\n",
       "      <th>中文名稱.3</th>\n",
       "    </tr>\n",
       "  </thead>\n",
       "  <tbody>\n",
       "    <tr>\n",
       "      <th>0</th>\n",
       "      <td>AGE</td>\n",
       "      <td>年齡</td>\n",
       "      <td>cucah</td>\n",
       "      <td>本月借現金額</td>\n",
       "      <td>inamt</td>\n",
       "      <td>本月分期消費金額</td>\n",
       "      <td>trans_no</td>\n",
       "      <td>交易編號</td>\n",
       "    </tr>\n",
       "    <tr>\n",
       "      <th>1</th>\n",
       "      <td>alert_key</td>\n",
       "      <td>alert主鍵</td>\n",
       "      <td>cucsm</td>\n",
       "      <td>本月消費金額</td>\n",
       "      <td>info_asset_code</td>\n",
       "      <td>資訊資產代號</td>\n",
       "      <td>tx_amt</td>\n",
       "      <td>交易金額</td>\n",
       "    </tr>\n",
       "    <tr>\n",
       "      <th>2</th>\n",
       "      <td>amt</td>\n",
       "      <td>交易金額-台幣</td>\n",
       "      <td>cur_type</td>\n",
       "      <td>消費地幣別</td>\n",
       "      <td>lupay</td>\n",
       "      <td>上月繳款總額</td>\n",
       "      <td>tx_date</td>\n",
       "      <td>交易日期</td>\n",
       "    </tr>\n",
       "    <tr>\n",
       "      <th>3</th>\n",
       "      <td>ATM</td>\n",
       "      <td>是否為實體ATM交易</td>\n",
       "      <td>cust_id</td>\n",
       "      <td>顧客編號</td>\n",
       "      <td>occupation_code</td>\n",
       "      <td>職業</td>\n",
       "      <td>tx_time</td>\n",
       "      <td>交易時間</td>\n",
       "    </tr>\n",
       "    <tr>\n",
       "      <th>4</th>\n",
       "      <td>byymm</td>\n",
       "      <td>帳務年月</td>\n",
       "      <td>cycam</td>\n",
       "      <td>信用額度</td>\n",
       "      <td>risk_rank</td>\n",
       "      <td>風險等級</td>\n",
       "      <td>tx_type</td>\n",
       "      <td>交易類別</td>\n",
       "    </tr>\n",
       "    <tr>\n",
       "      <th>5</th>\n",
       "      <td>clamt</td>\n",
       "      <td>本月分期預借現金金額</td>\n",
       "      <td>date</td>\n",
       "      <td>消費日期</td>\n",
       "      <td>sar_flag</td>\n",
       "      <td>alert主鍵報SAR與否</td>\n",
       "      <td>txbranch</td>\n",
       "      <td>分行代碼</td>\n",
       "    </tr>\n",
       "    <tr>\n",
       "      <th>6</th>\n",
       "      <td>country</td>\n",
       "      <td>消費地國別</td>\n",
       "      <td>debit_credit</td>\n",
       "      <td>借貸別</td>\n",
       "      <td>total_asset</td>\n",
       "      <td>行內總資產</td>\n",
       "      <td>usgam</td>\n",
       "      <td>已使用額度</td>\n",
       "    </tr>\n",
       "    <tr>\n",
       "      <th>7</th>\n",
       "      <td>cross_bank</td>\n",
       "      <td>是否為跨行交易</td>\n",
       "      <td>exchg_rate</td>\n",
       "      <td>匯率</td>\n",
       "      <td>trade_amount_usd</td>\n",
       "      <td>交易金額(折合美金)</td>\n",
       "      <td>NaN</td>\n",
       "      <td>NaN</td>\n",
       "    </tr>\n",
       "    <tr>\n",
       "      <th>8</th>\n",
       "      <td>csamt</td>\n",
       "      <td>本月預借現金金額</td>\n",
       "      <td>fiscTxId</td>\n",
       "      <td>交易代碼</td>\n",
       "      <td>trans_date</td>\n",
       "      <td>外匯交易日(帳務日)</td>\n",
       "      <td>NaN</td>\n",
       "      <td>NaN</td>\n",
       "    </tr>\n",
       "  </tbody>\n",
       "</table>\n",
       "</div>"
      ],
      "text/plain": [
       "           表頭        中文名稱          表頭.1  中文名稱.1              表頭.2  \\\n",
       "0         AGE          年齡         cucah  本月借現金額             inamt   \n",
       "1   alert_key     alert主鍵         cucsm  本月消費金額   info_asset_code   \n",
       "2         amt     交易金額-台幣      cur_type   消費地幣別             lupay   \n",
       "3         ATM  是否為實體ATM交易       cust_id    顧客編號   occupation_code   \n",
       "4       byymm        帳務年月         cycam    信用額度         risk_rank   \n",
       "5       clamt  本月分期預借現金金額          date    消費日期          sar_flag   \n",
       "6     country       消費地國別  debit_credit     借貸別       total_asset   \n",
       "7  cross_bank     是否為跨行交易    exchg_rate      匯率  trade_amount_usd   \n",
       "8       csamt    本月預借現金金額      fiscTxId    交易代碼        trans_date   \n",
       "\n",
       "          中文名稱.2      表頭.3 中文名稱.3  \n",
       "0       本月分期消費金額  trans_no   交易編號  \n",
       "1         資訊資產代號    tx_amt   交易金額  \n",
       "2         上月繳款總額   tx_date   交易日期  \n",
       "3             職業   tx_time   交易時間  \n",
       "4           風險等級   tx_type   交易類別  \n",
       "5  alert主鍵報SAR與否  txbranch   分行代碼  \n",
       "6          行內總資產     usgam  已使用額度  \n",
       "7     交易金額(折合美金)       NaN    NaN  \n",
       "8     外匯交易日(帳務日)       NaN    NaN  "
      ]
     },
     "execution_count": 13,
     "metadata": {},
     "output_type": "execute_result"
    }
   ],
   "source": [
    "#引入变数名称整理后的Excel便于对照含义\n",
    "translation = pd.read_csv('translation.csv')\n",
    "translation"
   ]
  },
  {
   "cell_type": "code",
   "execution_count": 14,
   "id": "f6b5a40e",
   "metadata": {},
   "outputs": [],
   "source": [
    "train_x_ccba = pd.read_csv('train_x_ccba_answer.csv')\n",
    "train_x_cdtx0001 = pd.read_csv('train_x_cdtx0001_answer.csv')\n",
    "train_x_custinf = pd.read_csv('train_x_custinf_answer.csv')\n",
    "train_x_dp = pd.read_csv('train_x_dp_answer.csv')\n",
    "train_x_remit1 = pd.read_csv('train_x_remit1_answer.csv')\n",
    "public_x_alert = pd.read_csv('public_x_alert_date.csv')\n",
    "train_x_alert = pd.read_csv('train_x_alert_date.csv')\n",
    "train_y_answer = pd.read_csv('train_y_answer.csv')"
   ]
  },
  {
   "cell_type": "code",
   "execution_count": 15,
   "id": "12be6ba0",
   "metadata": {},
   "outputs": [
    {
     "name": "stdout",
     "output_type": "stream",
     "text": [
      "train_x_ccba (59075, 12)\n",
      "train_x_cdtx0001 (1043014, 8)\n",
      "train_x_custinf (25751, 8)\n",
      "train_x_dp (1969818, 15)\n",
      "train_x_remit1 (17167, 6)\n",
      "public_x_alert (1845, 2)\n",
      "train_x_alert (23906, 2)\n",
      "train_y_answer (23906, 2)\n"
     ]
    }
   ],
   "source": [
    "print(\"train_x_ccba\",train_x_ccba.shape) \n",
    "print(\"train_x_cdtx0001\",train_x_cdtx0001.shape) \n",
    "print(\"train_x_custinf\",train_x_custinf.shape) \n",
    "print(\"train_x_dp\",train_x_dp.shape) \n",
    "print(\"train_x_remit1\",train_x_remit1.shape) \n",
    "print(\"public_x_alert\",public_x_alert.shape) \n",
    "print(\"train_x_alert\",train_x_alert.shape) \n",
    "print(\"train_y_answer\",train_y_answer.shape) "
   ]
  },
  {
   "cell_type": "markdown",
   "id": "2250cd74",
   "metadata": {},
   "source": [
    "**將sar = 2 的值更換為1，將“ - ”更換為0**"
   ]
  },
  {
   "cell_type": "code",
   "execution_count": 71,
   "id": "ba96776a",
   "metadata": {},
   "outputs": [
    {
     "name": "stdout",
     "output_type": "stream",
     "text": [
      "                                                 cust_id    lupay   byymm   \\\n",
      "0      0172056578071e83399216fcd640bdc4de4583149d0fd9...         0       0   \n",
      "1      0172056578071e83399216fcd640bdc4de4583149d0fd9...         0     30    \n",
      "2      0172056578071e83399216fcd640bdc4de4583149d0fd9...         0     61    \n",
      "3      0172056578071e83399216fcd640bdc4de4583149d0fd9...         0     91    \n",
      "4      0172056578071e83399216fcd640bdc4de4583149d0fd9...         0    122    \n",
      "...                                                  ...       ...     ...   \n",
      "59070  ffeb846f2294ec4397f800736dc1e14eb754da5425398d...         0    244    \n",
      "59071  ffeb846f2294ec4397f800736dc1e14eb754da5425398d...   61,927     275    \n",
      "59072  ffeb846f2294ec4397f800736dc1e14eb754da5425398d...   37,297     306    \n",
      "59073  ffeb846f2294ec4397f800736dc1e14eb754da5425398d...   19,766     334    \n",
      "59074  ffeb846f2294ec4397f800736dc1e14eb754da5425398d...    2,591     365    \n",
      "\n",
      "          cycam     usgam   clamt   csamt    inamt     cucsm   cucah   rank  \\\n",
      "0       152,628          0       0       0        0         0       0     0   \n",
      "1       152,628          0       0       0        0         0       0     1   \n",
      "2       152,628          0       0       0        0         0       0     2   \n",
      "3       152,628          0       0       0        0         0       0     3   \n",
      "4       152,628          0       0       0        0         0       0     4   \n",
      "...          ...       ...     ...     ...      ...       ...     ...   ...   \n",
      "59070   781,570    63,952        0       0        0   61,927        0     8   \n",
      "59071   781,570    37,297        0       0        0   37,276        0     9   \n",
      "59072   781,570    45,413        0       0        0   19,766        0    10   \n",
      "59073   781,570    26,360        0       0   1,142     2,568        0    11   \n",
      "59074   781,570    23,903        0       0   5,199     5,199        0    12   \n",
      "\n",
      "       sar_flag  \n",
      "0           0.0  \n",
      "1           0.0  \n",
      "2           0.0  \n",
      "3           0.0  \n",
      "4           0.0  \n",
      "...         ...  \n",
      "59070       0.0  \n",
      "59071       0.0  \n",
      "59072       0.0  \n",
      "59073       0.0  \n",
      "59074       0.0  \n",
      "\n",
      "[59075 rows x 12 columns]\n",
      "                                                   cust_id  date  country  \\\n",
      "0        0174dff6a8a2038f9966d61d8450e19e3bd751e4051c2a...     1      130   \n",
      "1        0174dff6a8a2038f9966d61d8450e19e3bd751e4051c2a...    10      130   \n",
      "2        0174dff6a8a2038f9966d61d8450e19e3bd751e4051c2a...    10      130   \n",
      "3        0174dff6a8a2038f9966d61d8450e19e3bd751e4051c2a...    13      130   \n",
      "4        0174dff6a8a2038f9966d61d8450e19e3bd751e4051c2a...    15      130   \n",
      "...                                                    ...   ...      ...   \n",
      "1043009  c58e3092e037420bfbde0adaf2f7a4ccb654c5dedac683...   370      130   \n",
      "1043010  c58e3092e037420bfbde0adaf2f7a4ccb654c5dedac683...   381      130   \n",
      "1043011  c58e3092e037420bfbde0adaf2f7a4ccb654c5dedac683...   389      130   \n",
      "1043012  c58e3092e037420bfbde0adaf2f7a4ccb654c5dedac683...   392      130   \n",
      "1043013  c58e3092e037420bfbde0adaf2f7a4ccb654c5dedac683...   393      130   \n",
      "\n",
      "         cur_type      amt   rank  countid  sar_flag  \n",
      "0              47   2312.0      0        0       0.0  \n",
      "1              47    808.0      1        0       0.0  \n",
      "2              47   7099.0      2        0       0.0  \n",
      "3              47    306.0      3        0       0.0  \n",
      "4              47    255.0      4        0       0.0  \n",
      "...           ...      ...    ...      ...       ...  \n",
      "1043009        47  27339.0  11615        1       0.0  \n",
      "1043010        47  13096.0  11616        1       0.0  \n",
      "1043011        47  15874.0  11617        1       0.0  \n",
      "1043012        47  28211.0  11618        1       0.0  \n",
      "1043013        47   3596.0  11619        1       0.0  \n",
      "\n",
      "[1043014 rows x 8 columns]\n",
      "       alert_key                                            cust_id  \\\n",
      "0         352249  82595ac69158ae08d34156784bdec0d9e2ca5b242b6d2a...   \n",
      "1         352253  b212d14cb35676926682b2cf849e295d948888f556c07e...   \n",
      "2         352254  e5b0002791c7852644a2730abeaa893cdf14a072ef7812...   \n",
      "3         352280  74214c478dc6519fbefe4bc31693865bdcd698ab974b64...   \n",
      "4         352282  0340e7611f0d82c3cb87e6194fa14bb2ccf8afbf1b3418...   \n",
      "...          ...                                                ...   \n",
      "25746     352123  b600c0720096c241f5aec16b096c6a353492eee8a5855a...   \n",
      "25747     352124  06c5ea5ccda4dfd8839c0dec8646fb3071d2c02883ef8a...   \n",
      "25748     352125  0c2dc5fedc3689abf5ff4be14fe8fea8d23d22068297c2...   \n",
      "25749     352128  ffe5f2bd86ecfd7d0a0f4c4b76dd5c312649be95eb8b42...   \n",
      "25750     352132  c49b33d1fde790ec03584672903f296e486615adfdc989...   \n",
      "\n",
      "       risk_rank  occupation_code  total_asset  AGE  rank  sar_flag  \n",
      "0              1             19.0    1465816.0    7     0       0.0  \n",
      "1              1              2.0      98177.0    2     0       0.0  \n",
      "2              1             19.0    2052922.0    7     0       0.0  \n",
      "3              3             15.0     201906.0    5     0       0.0  \n",
      "4              1             12.0       7450.0    5     0       0.0  \n",
      "...          ...              ...          ...  ...   ...       ...  \n",
      "25746          1             17.0      12207.0    2    40       0.0  \n",
      "25747          1             17.0     259985.0    4    22       0.0  \n",
      "25748          3             19.0     928963.0    3     1       0.0  \n",
      "25749          3             19.0      21647.0    4    29       0.0  \n",
      "25750          1             19.0    3218731.0    3     4       0.0  \n",
      "\n",
      "[25751 rows x 8 columns]\n",
      "                                                   cust_id debit_credit  \\\n",
      "0        0172056578071e83399216fcd640bdc4de4583149d0fd9...           CR   \n",
      "1        0172056578071e83399216fcd640bdc4de4583149d0fd9...           CR   \n",
      "2        0172056578071e83399216fcd640bdc4de4583149d0fd9...           CR   \n",
      "3        0172056578071e83399216fcd640bdc4de4583149d0fd9...           CR   \n",
      "4        0172056578071e83399216fcd640bdc4de4583149d0fd9...           CR   \n",
      "...                                                    ...          ...   \n",
      "1969813  f238341722c3de6abb5b91d1a7ca9a7e1c3b8ca1726e2d...           CR   \n",
      "1969814  f238341722c3de6abb5b91d1a7ca9a7e1c3b8ca1726e2d...           CR   \n",
      "1969815  f238341722c3de6abb5b91d1a7ca9a7e1c3b8ca1726e2d...           DB   \n",
      "1969816  f238341722c3de6abb5b91d1a7ca9a7e1c3b8ca1726e2d...           DB   \n",
      "1969817  f238341722c3de6abb5b91d1a7ca9a7e1c3b8ca1726e2d...           CR   \n",
      "\n",
      "         tx_date  tx_time  tx_type    tx_amt  exchg_rate  info_asset_code  \\\n",
      "0             36       18        2   68265.0         1.0               16   \n",
      "1             42       17        2  932058.0         1.0               16   \n",
      "2             39       18        2    6089.0         1.0               16   \n",
      "3             49       15        2  776715.0         1.0               16   \n",
      "4             70       19        2   61630.0         1.0               16   \n",
      "...          ...      ...      ...       ...         ...              ...   \n",
      "1969813      298       22        2     127.0         1.0                2   \n",
      "1969814      322       22        2     107.0         1.0                2   \n",
      "1969815      322       22        2     107.0         1.0               13   \n",
      "1969816      292        8        2     122.0         1.0                2   \n",
      "1969817      320       14        2     113.0         1.0                2   \n",
      "\n",
      "         fiscTxId  txbranch  cross_bank  ATM   rank  countid  sar_flag  \n",
      "0             0.0       0.0           0    0      0        0       0.0  \n",
      "1             0.0       0.0           0    0      1        0       0.0  \n",
      "2             0.0       0.0           0    0      2        0       0.0  \n",
      "3             0.0       0.0           0    0      3        0       0.0  \n",
      "4             0.0       0.0           0    0      4        0       0.0  \n",
      "...           ...       ...         ...  ...    ...      ...       ...  \n",
      "1969813       0.0       0.0           0    1  43344        1       0.0  \n",
      "1969814       0.0       0.0           0    1  43345        1       0.0  \n",
      "1969815       4.0       0.0           0    1  43346        1       0.0  \n",
      "1969816       0.0       0.0           0    1  43347        1       0.0  \n",
      "1969817       0.0       0.0           0    1  43348        1       0.0  \n",
      "\n",
      "[1969818 rows x 15 columns]\n",
      "                                                 cust_id  trans_date  \\\n",
      "0      01b1735c3dbf0a35c1c989bb45434ce4326b365b73db06...         148   \n",
      "1      01b1735c3dbf0a35c1c989bb45434ce4326b365b73db06...         165   \n",
      "2      01b1735c3dbf0a35c1c989bb45434ce4326b365b73db06...         231   \n",
      "3      01b1735c3dbf0a35c1c989bb45434ce4326b365b73db06...         291   \n",
      "4      01b1735c3dbf0a35c1c989bb45434ce4326b365b73db06...         389   \n",
      "...                                                  ...         ...   \n",
      "17162  ff6c1217b5e039fda46bf4dfba2d54291154a1db54c677...         244   \n",
      "17163  ff6c1217b5e039fda46bf4dfba2d54291154a1db54c677...         284   \n",
      "17164  ff6c1217b5e039fda46bf4dfba2d54291154a1db54c677...         298   \n",
      "17165  ff6c1217b5e039fda46bf4dfba2d54291154a1db54c677...         316   \n",
      "17166  ff6c1217b5e039fda46bf4dfba2d54291154a1db54c677...         386   \n",
      "\n",
      "       trans_no  trade_amount_usd  rank  sar_flag  \n",
      "0             0          100528.0     0       0.0  \n",
      "1             0          100528.0     1       0.0  \n",
      "2             0           89479.0     2       0.0  \n",
      "3             0          100528.0     3       0.0  \n",
      "4             0           30158.0     4       0.0  \n",
      "...         ...               ...   ...       ...  \n",
      "17162         0           33788.0     2       0.0  \n",
      "17163         4           91318.0     3       0.0  \n",
      "17164         0           83201.0     4       0.0  \n",
      "17165         0           99233.0     5       0.0  \n",
      "17166         0           88236.0     6       0.0  \n",
      "\n",
      "[17167 rows x 6 columns]\n"
     ]
    }
   ],
   "source": [
    "train_x_ccba = train_x_ccba.fillna(0)\n",
    "train_x_ccba = train_x_ccba.replace(' -   ',0)\n",
    "train_x_ccba[\"sar_flag\"].replace(2,1,inplace = True)\n",
    "print(train_x_ccba)\n",
    "\n",
    "train_x_cdtx0001 = train_x_cdtx0001.fillna(0)\n",
    "train_x_cdtx0001 = train_x_cdtx0001.replace(' -   ',0)\n",
    "train_x_cdtx0001[\"sar_flag\"].replace(2,1,inplace = True)\n",
    "print(train_x_cdtx0001)\n",
    "\n",
    "train_x_custinf = train_x_custinf.fillna(0)\n",
    "train_x_custinf = train_x_custinf.replace(' -   ',0)\n",
    "train_x_custinf[\"sar_flag\"].replace(2,1,inplace = True)\n",
    "print(train_x_custinf)\n",
    "\n",
    "train_x_dp = train_x_dp.fillna(0)\n",
    "train_x_dp = train_x_dp.replace(' -   ',0)\n",
    "train_x_dp[\"sar_flag\"].replace(2,1,inplace = True)\n",
    "print(train_x_dp)\n",
    "\n",
    "train_x_remit1 = train_x_remit1.fillna(0)\n",
    "train_x_remit1 = train_x_remit1.replace(' -   ',0)\n",
    "train_x_remit1[\"sar_flag\"].replace(2,1,inplace = True)\n",
    "print(train_x_remit1)"
   ]
  },
  {
   "cell_type": "markdown",
   "id": "4c2037cf",
   "metadata": {},
   "source": [
    "**對於各表中sar分佈進行統計**"
   ]
  },
  {
   "cell_type": "code",
   "execution_count": 67,
   "id": "799f91bb",
   "metadata": {},
   "outputs": [
    {
     "name": "stdout",
     "output_type": "stream",
     "text": [
      "                                                 cust_id    lupay   byymm   \\\n",
      "0      0172056578071e83399216fcd640bdc4de4583149d0fd9...         0       0   \n",
      "1      0172056578071e83399216fcd640bdc4de4583149d0fd9...         0     30    \n",
      "2      0172056578071e83399216fcd640bdc4de4583149d0fd9...         0     61    \n",
      "3      0172056578071e83399216fcd640bdc4de4583149d0fd9...         0     91    \n",
      "4      0172056578071e83399216fcd640bdc4de4583149d0fd9...         0    122    \n",
      "...                                                  ...       ...     ...   \n",
      "59070  ffeb846f2294ec4397f800736dc1e14eb754da5425398d...         0    244    \n",
      "59071  ffeb846f2294ec4397f800736dc1e14eb754da5425398d...   61,927     275    \n",
      "59072  ffeb846f2294ec4397f800736dc1e14eb754da5425398d...   37,297     306    \n",
      "59073  ffeb846f2294ec4397f800736dc1e14eb754da5425398d...   19,766     334    \n",
      "59074  ffeb846f2294ec4397f800736dc1e14eb754da5425398d...    2,591     365    \n",
      "\n",
      "          cycam     usgam   clamt   csamt    inamt     cucsm   cucah   rank  \\\n",
      "0       152,628          0       0       0        0         0       0     0   \n",
      "1       152,628          0       0       0        0         0       0     1   \n",
      "2       152,628          0       0       0        0         0       0     2   \n",
      "3       152,628          0       0       0        0         0       0     3   \n",
      "4       152,628          0       0       0        0         0       0     4   \n",
      "...          ...       ...     ...     ...      ...       ...     ...   ...   \n",
      "59070   781,570    63,952        0       0        0   61,927        0     8   \n",
      "59071   781,570    37,297        0       0        0   37,276        0     9   \n",
      "59072   781,570    45,413        0       0        0   19,766        0    10   \n",
      "59073   781,570    26,360        0       0   1,142     2,568        0    11   \n",
      "59074   781,570    23,903        0       0   5,199     5,199        0    12   \n",
      "\n",
      "       sar_flag  \n",
      "0           0.0  \n",
      "1           0.0  \n",
      "2           0.0  \n",
      "3           0.0  \n",
      "4           0.0  \n",
      "...         ...  \n",
      "59070       0.0  \n",
      "59071       0.0  \n",
      "59072       0.0  \n",
      "59073       0.0  \n",
      "59074       0.0  \n",
      "\n",
      "[59075 rows x 12 columns]\n"
     ]
    },
    {
     "data": {
      "image/png": "[encoded data removed]",
      "text/plain": [
       "<Figure size 432x288 with 1 Axes>"
      ]
     },
     "metadata": {
      "needs_background": "light"
     },
     "output_type": "display_data"
    },
    {
     "name": "stdout",
     "output_type": "stream",
     "text": [
      "總數  59075\n",
      "sar=0  57299\n",
      "sar=1  1776\n"
     ]
    }
   ],
   "source": [
    "sar_ccba = train_x_ccba[\"sar_flag\"]\n",
    "plt.title(\"train_x_ccba_sar_flag\")\n",
    "plt.xlabel(\"sar_flag\")\n",
    "plt.ylabel(\"rate\")\n",
    "plt.hist(sar_ccba)\n",
    "plt.show()\n",
    "print(\"總數 \",len(sar_ccba)) \n",
    "print(\"sar=0 \",sar_ccba.value_counts()[0])\n",
    "print(\"sar=1 \",sar_ccba.value_counts()[1])"
   ]
  },
  {
   "cell_type": "code",
   "execution_count": 72,
   "id": "1fe8cd77",
   "metadata": {},
   "outputs": [
    {
     "data": {
      "image/png": "[encoded data removed]",
      "text/plain": [
       "<Figure size 432x288 with 1 Axes>"
      ]
     },
     "metadata": {
      "needs_background": "light"
     },
     "output_type": "display_data"
    },
    {
     "name": "stdout",
     "output_type": "stream",
     "text": [
      "總數  1043014\n",
      "sar=0  860010\n",
      "sar=1  183004\n"
     ]
    }
   ],
   "source": [
    "sar_cdtx = train_x_cdtx0001[\"sar_flag\"]\n",
    "plt.title(\"train_x_cdtx0001_sar_flag\")\n",
    "plt.xlabel(\"sar_flag\")\n",
    "plt.ylabel(\"rate\")\n",
    "plt.hist(sar_cdtx)\n",
    "plt.show()\n",
    "print(\"總數 \",len(sar_cdtx)) \n",
    "print(\"sar=0 \",sar_cdtx.value_counts()[0])\n",
    "print(\"sar=1 \",sar_cdtx.value_counts()[1])"
   ]
  },
  {
   "cell_type": "code",
   "execution_count": 73,
   "id": "cfb84e0c",
   "metadata": {
    "scrolled": true
   },
   "outputs": [
    {
     "data": {
      "image/png": "[encoded data removed]",
      "text/plain": [
       "<Figure size 432x288 with 1 Axes>"
      ]
     },
     "metadata": {
      "needs_background": "light"
     },
     "output_type": "display_data"
    },
    {
     "name": "stdout",
     "output_type": "stream",
     "text": [
      "總數  25751\n",
      "sar=0  24861\n",
      "sar=1  890\n"
     ]
    }
   ],
   "source": [
    "sar_custinf = train_x_custinf[\"sar_flag\"]\n",
    "plt.title(\"train_x_custinf_sar_flag\")\n",
    "plt.xlabel(\"sar_flag\")\n",
    "plt.ylabel(\"rate\")\n",
    "plt.hist(sar_custinf)\n",
    "plt.show()\n",
    "print(\"總數 \",len(sar_custinf)) \n",
    "print(\"sar=0 \",sar_custinf.value_counts()[0])\n",
    "print(\"sar=1 \",sar_custinf.value_counts()[1])"
   ]
  },
  {
   "cell_type": "code",
   "execution_count": 74,
   "id": "9253659b",
   "metadata": {},
   "outputs": [
    {
     "data": {
      "image/png": "[encoded data removed]",
      "text/plain": [
       "<Figure size 432x288 with 1 Axes>"
      ]
     },
     "metadata": {
      "needs_background": "light"
     },
     "output_type": "display_data"
    },
    {
     "name": "stdout",
     "output_type": "stream",
     "text": [
      "總數  1969818\n",
      "sar=0  1793808\n",
      "sar=1  176010\n"
     ]
    }
   ],
   "source": [
    "sar_dp = train_x_dp[\"sar_flag\"]\n",
    "plt.title(\"train_x_dp_sar_flag\")\n",
    "plt.xlabel(\"sar_flag\")\n",
    "plt.ylabel(\"rate\")\n",
    "plt.hist(sar_dp)\n",
    "plt.show()\n",
    "print(\"總數 \",len(sar_dp)) \n",
    "print(\"sar=0 \",sar_dp.value_counts()[0])\n",
    "print(\"sar=1 \",sar_dp.value_counts()[1])"
   ]
  },
  {
   "cell_type": "code",
   "execution_count": 75,
   "id": "030b64a3",
   "metadata": {},
   "outputs": [
    {
     "data": {
      "image/png": "[encoded data removed]",
      "text/plain": [
       "<Figure size 432x288 with 1 Axes>"
      ]
     },
     "metadata": {
      "needs_background": "light"
     },
     "output_type": "display_data"
    },
    {
     "name": "stdout",
     "output_type": "stream",
     "text": [
      "總數  17167\n",
      "sar=0  11963\n",
      "sar=1  5204\n"
     ]
    }
   ],
   "source": [
    "sar_remit1 = train_x_remit1[\"sar_flag\"]\n",
    "plt.title(\"train_x_remit1_sar_flag\")\n",
    "plt.xlabel(\"sar_flag\")\n",
    "plt.ylabel(\"rate\")\n",
    "plt.hist(sar_remit1)\n",
    "plt.show()\n",
    "print(\"總數 \",len(sar_remit1)) \n",
    "print(\"sar=0 \",sar_remit1.value_counts()[0])\n",
    "print(\"sar=1 \",sar_remit1.value_counts()[1])"
   ]
  },
  {
   "cell_type": "markdown",
   "id": "c811b253",
   "metadata": {},
   "source": [
    "**只取滿足 sar = 1的部分 分析特征**"
   ]
  },
  {
   "cell_type": "code",
   "execution_count": 79,
   "id": "bf064292",
   "metadata": {
    "scrolled": false
   },
   "outputs": [
    {
     "name": "stdout",
     "output_type": "stream",
     "text": [
      "                                                 cust_id  lupay   byymm   \\\n",
      "504    12c9e6d35500d2a96fc2b22a9da8e3deb6048de515a16e...       0     61    \n",
      "505    12c9e6d35500d2a96fc2b22a9da8e3deb6048de515a16e...       0     91    \n",
      "506    12c9e6d35500d2a96fc2b22a9da8e3deb6048de515a16e...    390     122    \n",
      "507    12c9e6d35500d2a96fc2b22a9da8e3deb6048de515a16e...       0    153    \n",
      "508    12c9e6d35500d2a96fc2b22a9da8e3deb6048de515a16e...       0    183    \n",
      "...                                                  ...     ...     ...   \n",
      "58656  fe08fb557052ab9865c301f4bd3c5930254199c2db3516...       0    244    \n",
      "58657  fe08fb557052ab9865c301f4bd3c5930254199c2db3516...       0    275    \n",
      "58658  fe08fb557052ab9865c301f4bd3c5930254199c2db3516...       0    306    \n",
      "58659  fe08fb557052ab9865c301f4bd3c5930254199c2db3516...       0    334    \n",
      "58660  fe08fb557052ab9865c301f4bd3c5930254199c2db3516...       0    365    \n",
      "\n",
      "          cycam   usgam   clamt   csamt   inamt   cucsm   cucah   rank  \\\n",
      "504     120,106        0       0       0       0       0       0     0   \n",
      "505     120,106     390        0       0       0    390        0     1   \n",
      "506     120,106        0       0       0       0       0       0     2   \n",
      "507     120,106        0       0       0       0       0       0     3   \n",
      "508     120,106        0       0       0       0       0       0     4   \n",
      "...          ...     ...     ...     ...     ...     ...     ...   ...   \n",
      "58656   312,699        0       0       0       0       0       0     8   \n",
      "58657   312,699        0       0       0       0       0       0     9   \n",
      "58658   312,699        0       0       0       0       0       0    10   \n",
      "58659   312,699        0       0       0       0       0       0    11   \n",
      "58660   312,699        0       0       0       0       0       0    12   \n",
      "\n",
      "       sar_flag  \n",
      "504         1.0  \n",
      "505         1.0  \n",
      "506         1.0  \n",
      "507         1.0  \n",
      "508         1.0  \n",
      "...         ...  \n",
      "58656       1.0  \n",
      "58657       1.0  \n",
      "58658       1.0  \n",
      "58659       1.0  \n",
      "58660       1.0  \n",
      "\n",
      "[1776 rows x 12 columns]\n",
      "                                                   cust_id  date  country  \\\n",
      "8826     12c9e6d35500d2a96fc2b22a9da8e3deb6048de515a16e...   114      130   \n",
      "44685    780a1c6ddd725f1fde827457b227ee70032abfe4c96ed7...     0      130   \n",
      "44686    780a1c6ddd725f1fde827457b227ee70032abfe4c96ed7...     2      130   \n",
      "44687    780a1c6ddd725f1fde827457b227ee70032abfe4c96ed7...     1      130   \n",
      "44688    780a1c6ddd725f1fde827457b227ee70032abfe4c96ed7...     6      130   \n",
      "...                                                    ...   ...      ...   \n",
      "1031389  77eb881fb8ad47743816447a9c9f9712f64b1e42bf56fd...   391      130   \n",
      "1031390  77eb881fb8ad47743816447a9c9f9712f64b1e42bf56fd...   392      130   \n",
      "1031391  77eb881fb8ad47743816447a9c9f9712f64b1e42bf56fd...   392      130   \n",
      "1031392  77eb881fb8ad47743816447a9c9f9712f64b1e42bf56fd...   393      130   \n",
      "1031393  77eb881fb8ad47743816447a9c9f9712f64b1e42bf56fd...   394      130   \n",
      "\n",
      "         cur_type     amt   rank  countid  sar_flag  \n",
      "8826           47   390.0      0        0       1.0  \n",
      "44685          47   509.0      0        0       1.0  \n",
      "44686          47  1347.0      1        0       1.0  \n",
      "44687          47   153.0      2        0       1.0  \n",
      "44688          47    60.0      3        0       1.0  \n",
      "...           ...     ...    ...      ...       ...  \n",
      "1031389        47   312.0  20853        1       1.0  \n",
      "1031390        47   282.0  20854        1       1.0  \n",
      "1031391        47   185.0  20855        1       1.0  \n",
      "1031392        47   251.0  20856        1       1.0  \n",
      "1031393        47   277.0  20857        1       1.0  \n",
      "\n",
      "[183004 rows x 8 columns]\n",
      "       alert_key                                            cust_id  \\\n",
      "327       354939  780a1c6ddd725f1fde827457b227ee70032abfe4c96ed7...   \n",
      "1510      362733  12c9e6d35500d2a96fc2b22a9da8e3deb6048de515a16e...   \n",
      "1842      365008  12c9e6d35500d2a96fc2b22a9da8e3deb6048de515a16e...   \n",
      "1885      171495  deea7839000d9f8c1e3fed53e0a1141266fb8d7149a050...   \n",
      "1889      171503  c121e5163d534845ad9f090fe7a77225ad592a81449532...   \n",
      "...          ...                                                ...   \n",
      "25162     347051  a21eeb4acc2c9c128403c88c3f3e248bcf20067059d33b...   \n",
      "25259     347894  9a1d940986fce29cd6b54d5a5fe076a5aa8026161f5627...   \n",
      "25364     348724  2f4011af820fb0a91313221c6cc2b649495a5cb05aed82...   \n",
      "25516     350034  3e2ddbf33f8b830778b39661a2ff547bee79a635b219e6...   \n",
      "25673     351367  3e2ddbf33f8b830778b39661a2ff547bee79a635b219e6...   \n",
      "\n",
      "       risk_rank  occupation_code  total_asset  AGE  rank  sar_flag  \n",
      "327            3              3.0      80111.0    4     0       1.0  \n",
      "1510           3             19.0    1230244.0    2     0       1.0  \n",
      "1842           3             19.0    1230244.0    2     1       1.0  \n",
      "1885           3             12.0          0.0    3     0       1.0  \n",
      "1889           3             12.0     419954.0    3     0       1.0  \n",
      "...          ...              ...          ...  ...   ...       ...  \n",
      "25162          2             11.0     258763.0    3     1       1.0  \n",
      "25259          1             17.0     337845.0    5    11       1.0  \n",
      "25364          1             19.0    2439013.0    2     2       1.0  \n",
      "25516          1             17.0     141155.0    2     0       1.0  \n",
      "25673          1             17.0     141155.0    2     1       1.0  \n",
      "\n",
      "[890 rows x 8 columns]\n",
      "                                                   cust_id debit_credit  \\\n",
      "117791   780a1c6ddd725f1fde827457b227ee70032abfe4c96ed7...           CR   \n",
      "117792   780a1c6ddd725f1fde827457b227ee70032abfe4c96ed7...           DB   \n",
      "117793   780a1c6ddd725f1fde827457b227ee70032abfe4c96ed7...           DB   \n",
      "117794   780a1c6ddd725f1fde827457b227ee70032abfe4c96ed7...           CR   \n",
      "117795   780a1c6ddd725f1fde827457b227ee70032abfe4c96ed7...           CR   \n",
      "...                                                    ...          ...   \n",
      "1513041  ff1edb79332e0114ad8db6cec9bb912e59c03c1088e178...           DB   \n",
      "1513042  ff1edb79332e0114ad8db6cec9bb912e59c03c1088e178...           DB   \n",
      "1513043  ff1edb79332e0114ad8db6cec9bb912e59c03c1088e178...           DB   \n",
      "1513044  ff1edb79332e0114ad8db6cec9bb912e59c03c1088e178...           DB   \n",
      "1513045  ff1edb79332e0114ad8db6cec9bb912e59c03c1088e178...           DB   \n",
      "\n",
      "         tx_date  tx_time  tx_type    tx_amt  exchg_rate  info_asset_code  \\\n",
      "117791       229       15        2  127673.0       27.80               20   \n",
      "117792       250       15        2   15219.0       27.82               20   \n",
      "117793       246        9        2  146185.0       27.79               20   \n",
      "117794       250       15        2   55616.0       27.78               20   \n",
      "117795       245       15        2  156607.0       27.76               20   \n",
      "...          ...      ...      ...       ...         ...              ...   \n",
      "1513041       64       14        2  103996.0        1.00               16   \n",
      "1513042       19       14        2   98170.0        1.00               16   \n",
      "1513043       62       14        2  100035.0        1.00               16   \n",
      "1513044       62       14        2   58764.0        1.00               16   \n",
      "1513045       62       14        2   99378.0        1.00               16   \n",
      "\n",
      "         fiscTxId  txbranch  cross_bank  ATM  rank  countid  sar_flag  \n",
      "117791        0.0       0.0           0    1     0        0       1.0  \n",
      "117792        0.0       0.0           0    1     1        0       1.0  \n",
      "117793        0.0       0.0           0    1     2        0       1.0  \n",
      "117794        0.0       0.0           0    1     3        0       1.0  \n",
      "117795        0.0       0.0           0    1     4        0       1.0  \n",
      "...           ...       ...         ...  ...   ...      ...       ...  \n",
      "1513041       0.0       0.0           0    0  1080        0       1.0  \n",
      "1513042       0.0       0.0           0    0  1081        0       1.0  \n",
      "1513043       0.0       0.0           0    0  1082        0       1.0  \n",
      "1513044       0.0       0.0           0    0  1083        0       1.0  \n",
      "1513045       0.0       0.0           0    0  1084        0       1.0  \n",
      "\n",
      "[176010 rows x 15 columns]\n",
      "                                                 cust_id  trans_date  \\\n",
      "294    12c9e6d35500d2a96fc2b22a9da8e3deb6048de515a16e...           7   \n",
      "295    12c9e6d35500d2a96fc2b22a9da8e3deb6048de515a16e...          14   \n",
      "296    12c9e6d35500d2a96fc2b22a9da8e3deb6048de515a16e...          18   \n",
      "297    12c9e6d35500d2a96fc2b22a9da8e3deb6048de515a16e...          19   \n",
      "298    12c9e6d35500d2a96fc2b22a9da8e3deb6048de515a16e...          22   \n",
      "...                                                  ...         ...   \n",
      "16946  f9d859f414d529c21455bf3e8261d5b6abd45169bc90b6...         379   \n",
      "16947  f9d859f414d529c21455bf3e8261d5b6abd45169bc90b6...         377   \n",
      "16948  f9d859f414d529c21455bf3e8261d5b6abd45169bc90b6...         378   \n",
      "16949  f9d859f414d529c21455bf3e8261d5b6abd45169bc90b6...         383   \n",
      "17108  fe08fb557052ab9865c301f4bd3c5930254199c2db3516...         200   \n",
      "\n",
      "       trans_no  trade_amount_usd  rank  sar_flag  \n",
      "294           0           30001.0     0       1.0  \n",
      "295           0           30001.0     1       1.0  \n",
      "296           0           30001.0     2       1.0  \n",
      "297           0           50009.0     3       1.0  \n",
      "298           0           50009.0     4       1.0  \n",
      "...         ...               ...   ...       ...  \n",
      "16946         0           64178.0    72       1.0  \n",
      "16947         0           64016.0    73       1.0  \n",
      "16948         0           64421.0    74       1.0  \n",
      "16949         0           60115.0    75       1.0  \n",
      "17108         4          482664.0     0       1.0  \n",
      "\n",
      "[5204 rows x 6 columns]\n"
     ]
    }
   ],
   "source": [
    "sar_ccba_1 = train_x_ccba.loc[train_x_ccba['sar_flag']==1]\n",
    "print(sar_ccba_1)\n",
    "sar_cdtx_1 = train_x_cdtx0001.loc[train_x_cdtx0001['sar_flag']==1]\n",
    "print(sar_cdtx_1)\n",
    "sar_custinf_1 = train_x_custinf.loc[train_x_custinf['sar_flag']==1]\n",
    "print(sar_custinf_1)\n",
    "sar_dp_1 = train_x_dp.loc[train_x_dp['sar_flag']==1]\n",
    "print(sar_dp_1)\n",
    "sar_remit1_1 = train_x_remit1.loc[train_x_remit1['sar_flag']==1]\n",
    "print(sar_remit1_1)"
   ]
  },
  {
   "cell_type": "markdown",
   "id": "5d1c12f7",
   "metadata": {},
   "source": [
    "**sar=1與cdtx的分佈**"
   ]
  },
  {
   "cell_type": "code",
   "execution_count": 134,
   "id": "53476fee",
   "metadata": {},
   "outputs": [
    {
     "data": {
      "image/png": "[encoded data removed]",
      "text/plain": [
       "<Figure size 432x288 with 1 Axes>"
      ]
     },
     "metadata": {
      "needs_background": "light"
     },
     "output_type": "display_data"
    },
    {
     "name": "stdout",
     "output_type": "stream",
     "text": [
      "總數  183004\n",
      "消費地國別為台灣  48507\n"
     ]
    },
    {
     "data": {
      "text/plain": [
       "134    99331\n",
       "130    48507\n",
       "52      9479\n",
       "53      9169\n",
       "43      8459\n",
       "68      4021\n",
       "44       919\n",
       "135      616\n",
       "42       577\n",
       "61       425\n",
       "13       283\n",
       "57       219\n",
       "119      207\n",
       "94       140\n",
       "41       136\n",
       "31        69\n",
       "37        48\n",
       "93        47\n",
       "27        46\n",
       "1         44\n",
       "36        36\n",
       "118       32\n",
       "19        22\n",
       "10        19\n",
       "76        18\n",
       "7         16\n",
       "67        16\n",
       "18        15\n",
       "30        13\n",
       "87        12\n",
       "75        11\n",
       "129        8\n",
       "64         8\n",
       "110        5\n",
       "47         5\n",
       "29         3\n",
       "16         3\n",
       "15         3\n",
       "78         3\n",
       "25         2\n",
       "90         2\n",
       "32         2\n",
       "125        2\n",
       "65         2\n",
       "73         1\n",
       "105        1\n",
       "17         1\n",
       "77         1\n",
       "Name: country, dtype: int64"
      ]
     },
     "execution_count": 134,
     "metadata": {},
     "output_type": "execute_result"
    }
   ],
   "source": [
    "#country消費地國別與sar=1的分佈\n",
    "sar_cdtx_1_country = sar_cdtx_1[\"country\"]\n",
    "plt.title(\"sar_cdtx_1_country\")\n",
    "plt.xlabel(\"country\")\n",
    "plt.ylabel(\"rate\")\n",
    "plt.hist(sar_cdtx_1_country,bins=140)\n",
    "plt.show()\n",
    "print(\"總數 \",len(sar_cdtx_1_country)) \n",
    "print(\"消費地國別為台灣 \",sar_cdtx_1_country.value_counts()[130])\n",
    "sar_cdtx_1_country.value_counts()"
   ]
  },
  {
   "cell_type": "code",
   "execution_count": 135,
   "id": "b67e7f96",
   "metadata": {},
   "outputs": [
    {
     "data": {
      "image/png": "[encoded data removed]",
      "text/plain": [
       "<Figure size 432x288 with 1 Axes>"
      ]
     },
     "metadata": {
      "needs_background": "light"
     },
     "output_type": "display_data"
    },
    {
     "name": "stdout",
     "output_type": "stream",
     "text": [
      "總數  183004\n",
      "消費地幣別為台幣 69257\n",
      "消費地幣別為台幣 50475\n"
     ]
    },
    {
     "data": {
      "text/plain": [
       "46    69257\n",
       "47    50475\n",
       "30    25650\n",
       "13    18603\n",
       "50     8448\n",
       "6      4803\n",
       "19     4053\n",
       "53      910\n",
       "45      381\n",
       "56      283\n",
       "43       43\n",
       "7        22\n",
       "16       22\n",
       "2        20\n",
       "41       14\n",
       "1        12\n",
       "5         3\n",
       "37        3\n",
       "40        2\n",
       "Name: cur_type, dtype: int64"
      ]
     },
     "execution_count": 135,
     "metadata": {},
     "output_type": "execute_result"
    }
   ],
   "source": [
    "#cur_type消費地幣別與sar=1的分佈\n",
    "sar_cdtx_1_cur_type = sar_cdtx_1[\"cur_type\"]\n",
    "plt.title(\"sar_cdtx_1_cur_type\")\n",
    "plt.xlabel(\"cur_type\")\n",
    "plt.ylabel(\"rate\")\n",
    "plt.hist(sar_cdtx_1_cur_type,bins=50)\n",
    "plt.show()\n",
    "print(\"總數 \",len(sar_cdtx_1_cur_type)) \n",
    "print(\"消費地幣別為台幣\",sar_cdtx_1_cur_type.value_counts()[46])\n",
    "print(\"消費地幣別為台幣\",sar_cdtx_1_cur_type.value_counts()[47])\n",
    "sar_cdtx_1_cur_type.value_counts()"
   ]
  },
  {
   "cell_type": "markdown",
   "id": "4f350bda",
   "metadata": {},
   "source": [
    "**sar=1與custinfo的分佈**"
   ]
  },
  {
   "cell_type": "code",
   "execution_count": 100,
   "id": "b4e58ba7",
   "metadata": {},
   "outputs": [
    {
     "data": {
      "image/png": "[encoded data removed]",
      "text/plain": [
       "<Figure size 432x288 with 1 Axes>"
      ]
     },
     "metadata": {
      "needs_background": "light"
     },
     "output_type": "display_data"
    },
    {
     "name": "stdout",
     "output_type": "stream",
     "text": [
      "總數  890\n",
      "風險等級 = 1 696\n",
      "風險等級 = 2 27\n",
      "風險等級 = 3 167\n"
     ]
    }
   ],
   "source": [
    "#risk_rank風險等級與sar=1的分佈\n",
    "sar_custinf_1_risk_rank = sar_custinf_1[\"risk_rank\"]\n",
    "plt.title(\"sar_custinf_1_risk_rank\")\n",
    "plt.xlabel(\"risk_rank\")\n",
    "plt.ylabel(\"rate\")\n",
    "plt.hist(sar_custinf_1_risk_rank)\n",
    "plt.show()\n",
    "print(\"總數 \",len(sar_custinf_1_risk_rank)) \n",
    "print(\"風險等級 = 1\",sar_custinf_1_risk_rank.value_counts()[1])\n",
    "print(\"風險等級 = 2\",sar_custinf_1_risk_rank.value_counts()[2])\n",
    "print(\"風險等級 = 3\",sar_custinf_1_risk_rank.value_counts()[3])"
   ]
  },
  {
   "cell_type": "code",
   "execution_count": 136,
   "id": "c7b1d320",
   "metadata": {},
   "outputs": [
    {
     "data": {
      "image/png": "[encoded data removed]",
      "text/plain": [
       "<Figure size 432x288 with 1 Axes>"
      ]
     },
     "metadata": {
      "needs_background": "light"
     },
     "output_type": "display_data"
    },
    {
     "name": "stdout",
     "output_type": "stream",
     "text": [
      "總數  890\n",
      "職業 = 19 212\n",
      "職業 = 18 102\n",
      "職業 = 17 235\n",
      "職業 = 12 145\n"
     ]
    },
    {
     "data": {
      "text/plain": [
       "17.0    235\n",
       "19.0    212\n",
       "12.0    145\n",
       "18.0    102\n",
       "1.0      55\n",
       "13.0     44\n",
       "9.0      17\n",
       "5.0      16\n",
       "15.0     16\n",
       "3.0      15\n",
       "14.0     12\n",
       "11.0      9\n",
       "4.0       4\n",
       "16.0      3\n",
       "8.0       3\n",
       "2.0       1\n",
       "10.0      1\n",
       "Name: occupation_code, dtype: int64"
      ]
     },
     "execution_count": 136,
     "metadata": {},
     "output_type": "execute_result"
    }
   ],
   "source": [
    "#occupation_code職業與sar=1的分佈\n",
    "sar_custinf_1_occupation_code = sar_custinf_1[\"occupation_code\"]\n",
    "plt.title(\"sar_custinf_1_occupation_code\")\n",
    "plt.xlabel(\"occupation_code\")\n",
    "plt.ylabel(\"rate\")\n",
    "plt.hist(sar_custinf_1_occupation_code)\n",
    "plt.show()\n",
    "print(\"總數 \",len(sar_custinf_1_occupation_code)) \n",
    "print(\"職業 = 19\",sar_custinf_1_occupation_code.value_counts()[19])\n",
    "print(\"職業 = 18\",sar_custinf_1_occupation_code.value_counts()[18])\n",
    "print(\"職業 = 17\",sar_custinf_1_occupation_code.value_counts()[17])\n",
    "print(\"職業 = 12\",sar_custinf_1_occupation_code.value_counts()[12])\n",
    "sar_custinf_1_occupation_code.value_counts()"
   ]
  },
  {
   "cell_type": "code",
   "execution_count": 137,
   "id": "d43dd2eb",
   "metadata": {},
   "outputs": [
    {
     "data": {
      "image/png": "[encoded data removed]",
      "text/plain": [
       "<Figure size 432x288 with 1 Axes>"
      ]
     },
     "metadata": {
      "needs_background": "light"
     },
     "output_type": "display_data"
    },
    {
     "name": "stdout",
     "output_type": "stream",
     "text": [
      "總數  890\n",
      "年齡 = 2 175\n",
      "年齡 = 3 441\n",
      "年齡 = 4 168\n"
     ]
    },
    {
     "data": {
      "text/plain": [
       "3    441\n",
       "2    175\n",
       "4    168\n",
       "5     88\n",
       "6     13\n",
       "8      3\n",
       "7      1\n",
       "1      1\n",
       "Name: AGE, dtype: int64"
      ]
     },
     "execution_count": 137,
     "metadata": {},
     "output_type": "execute_result"
    }
   ],
   "source": [
    "#AGE年齡與sar=1的分佈\n",
    "sar_custinf_1_AGE = sar_custinf_1[\"AGE\"]\n",
    "plt.title(\"sar_custinf_1_AGE\")\n",
    "plt.xlabel(\"AGE\")\n",
    "plt.ylabel(\"rate\")\n",
    "plt.hist(sar_custinf_1_AGE)\n",
    "plt.show()\n",
    "print(\"總數 \",len(sar_custinf_1_AGE)) \n",
    "print(\"年齡 = 2\",sar_custinf_1_AGE.value_counts()[2])\n",
    "print(\"年齡 = 3\",sar_custinf_1_AGE.value_counts()[3])\n",
    "print(\"年齡 = 4\",sar_custinf_1_AGE.value_counts()[4])\n",
    "sar_custinf_1_AGE.value_counts()"
   ]
  },
  {
   "cell_type": "markdown",
   "id": "d2e1553f",
   "metadata": {},
   "source": [
    "**sar=1與dp的分佈**"
   ]
  },
  {
   "cell_type": "code",
   "execution_count": 138,
   "id": "70752064",
   "metadata": {},
   "outputs": [
    {
     "name": "stdout",
     "output_type": "stream",
     "text": [
      "                                                   cust_id debit_credit  \\\n",
      "234298   010f0a437884833140ede0ec8ac7b6f54fb4341a8aea81...           DB   \n",
      "260788   06904a74a3b04d5f0c6cc7e0fab6cd10661e8ec9ccb302...           CR   \n",
      "260871   06904a74a3b04d5f0c6cc7e0fab6cd10661e8ec9ccb302...           CR   \n",
      "260911   06904a74a3b04d5f0c6cc7e0fab6cd10661e8ec9ccb302...           CR   \n",
      "261038   06904a74a3b04d5f0c6cc7e0fab6cd10661e8ec9ccb302...           CR   \n",
      "...                                                    ...          ...   \n",
      "1512420  ff1edb79332e0114ad8db6cec9bb912e59c03c1088e178...           CR   \n",
      "1512452  ff1edb79332e0114ad8db6cec9bb912e59c03c1088e178...           CR   \n",
      "1512482  ff1edb79332e0114ad8db6cec9bb912e59c03c1088e178...           CR   \n",
      "1512495  ff1edb79332e0114ad8db6cec9bb912e59c03c1088e178...           CR   \n",
      "1512503  ff1edb79332e0114ad8db6cec9bb912e59c03c1088e178...           CR   \n",
      "\n",
      "         tx_date  tx_time  tx_type   tx_amt  exchg_rate  info_asset_code  \\\n",
      "234298       316       14        1   6037.0         1.0               12   \n",
      "260788       242       11        1   5796.0         1.0               12   \n",
      "260871       166        9        1  43086.0         1.0               12   \n",
      "260911       130       13        1  12310.0         1.0               12   \n",
      "261038        18        9        1  40624.0         1.0               12   \n",
      "...          ...      ...      ...      ...         ...              ...   \n",
      "1512420      179       15        1   2432.0         1.0               12   \n",
      "1512452      151       12        1   8429.0         1.0               12   \n",
      "1512482      159       10        1   3123.0         1.0               12   \n",
      "1512495      161       10        1   2082.0         1.0               12   \n",
      "1512503      166        9        1  12493.0         1.0               12   \n",
      "\n",
      "         fiscTxId  txbranch  cross_bank  ATM  rank  countid  sar_flag  \n",
      "234298        0.0       0.0           0    0   288        0       1.0  \n",
      "260788        0.0       0.0           0    0    66        0       1.0  \n",
      "260871        0.0       0.0           0    0   149        0       1.0  \n",
      "260911        0.0       0.0           0    0   189        0       1.0  \n",
      "261038        0.0       0.0           0    0   316        0       1.0  \n",
      "...           ...       ...         ...  ...   ...      ...       ...  \n",
      "1512420       0.0       0.0           0    0   459        0       1.0  \n",
      "1512452       0.0       0.0           0    0   491        0       1.0  \n",
      "1512482       0.0       0.0           0    0   521        0       1.0  \n",
      "1512495       0.0       0.0           0    0   534        0       1.0  \n",
      "1512503       0.0       0.0           0    0   542        0       1.0  \n",
      "\n",
      "[2410 rows x 15 columns]\n",
      "總數  176010\n",
      "臨櫃現金交易  2410\n"
     ]
    }
   ],
   "source": [
    "#info_asset_code，資訊資產代號；tx_type 交易類別 與sar=1的分佈\n",
    "sar_dp_1_info_asset_code = sar_dp_1[\"info_asset_code\"]\n",
    "sar_dp_1_info_asset_code_type= train_x_dp.loc[(train_x_dp['sar_flag']==1)&(train_x_dp['tx_type']==1)&(train_x_dp['info_asset_code']==12)]\n",
    "print(sar_dp_1_type)\n",
    "print(\"總數 \",len(sar_dp_1_info_asset_code)) \n",
    "print(\"臨櫃現金交易 \",len(sar_dp_1_info_asset_code_type)) "
   ]
  },
  {
   "cell_type": "code",
   "execution_count": 117,
   "id": "5299bc48",
   "metadata": {},
   "outputs": [
    {
     "data": {
      "image/png": "[encoded data removed]",
      "text/plain": [
       "<Figure size 432x288 with 1 Axes>"
      ]
     },
     "metadata": {
      "needs_background": "light"
     },
     "output_type": "display_data"
    },
    {
     "name": "stdout",
     "output_type": "stream",
     "text": [
      "總數  176010\n",
      "非跨行 115459\n",
      "跨行 60551\n"
     ]
    }
   ],
   "source": [
    "#cross_bank跨行交易與sar=1的分佈\n",
    "sar_dp_1_cross_bank = sar_dp_1[\"cross_bank\"]\n",
    "plt.title(\"sar_dp_1_cross_bank\")\n",
    "plt.xlabel(\"cross_bank\")\n",
    "plt.ylabel(\"rate\")\n",
    "plt.hist(sar_dp_1_cross_bank)\n",
    "plt.show()\n",
    "print(\"總數 \",len(sar_dp_1_cross_bank)) \n",
    "print(\"非跨行\",sar_dp_1_cross_bank.value_counts()[0])\n",
    "print(\"跨行\",sar_dp_1_cross_bank.value_counts()[1])"
   ]
  },
  {
   "cell_type": "code",
   "execution_count": 118,
   "id": "f7af6130",
   "metadata": {},
   "outputs": [
    {
     "data": {
      "image/png": "[encoded data removed]",
      "text/plain": [
       "<Figure size 432x288 with 1 Axes>"
      ]
     },
     "metadata": {
      "needs_background": "light"
     },
     "output_type": "display_data"
    },
    {
     "name": "stdout",
     "output_type": "stream",
     "text": [
      "總數  176010\n",
      "非實體ATM交易 20854\n",
      "實體ATM交易 155156\n"
     ]
    }
   ],
   "source": [
    "#ATM交易與sar=1的分佈\n",
    "sar_dp_1_ATM = sar_dp_1[\"ATM\"]\n",
    "plt.title(\"sar_dp_1_ATM\")\n",
    "plt.xlabel(\"ATM\")\n",
    "plt.ylabel(\"rate\")\n",
    "plt.hist(sar_dp_1_ATM)\n",
    "plt.show()\n",
    "print(\"總數 \",len(sar_dp_1_ATM)) \n",
    "print(\"非實體ATM交易\",sar_dp_1_ATM.value_counts()[0])\n",
    "print(\"實體ATM交易\",sar_dp_1_ATM.value_counts()[1])"
   ]
  },
  {
   "cell_type": "code",
   "execution_count": null,
   "id": "9410a798",
   "metadata": {},
   "outputs": [],
   "source": []
  }
 ],
 "metadata": {
  "kernelspec": {
   "display_name": "Python 3 (ipykernel)",
   "language": "python",
   "name": "python3"
  },
  "language_info": {
   "codemirror_mode": {
    "name": "ipython",
    "version": 3
   },
   "file_extension": ".py",
   "mimetype": "text/x-python",
   "name": "python",
   "nbconvert_exporter": "python",
   "pygments_lexer": "ipython3",
   "version": "3.9.12"
  }
 },
 "nbformat": 4,
 "nbformat_minor": 5
}
