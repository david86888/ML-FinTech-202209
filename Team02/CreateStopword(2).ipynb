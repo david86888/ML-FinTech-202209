{
 "cells": [
  {
   "cell_type": "code",
   "execution_count": 1,
   "id": "59953b37",
   "metadata": {},
   "outputs": [],
   "source": [
    "import pandas as pd\n",
    "import numpy as np\n",
    "import seaborn as sns\n",
    "import matplotlib.pyplot as plt\n",
    "import jieba\n",
    "from jieba import analyse\n",
    "from collections import Counter"
   ]
  },
  {
   "cell_type": "markdown",
   "id": "0f92f43e",
   "metadata": {},
   "source": [
    "### Segmenting word  \n",
    "．二手拍群組全部訊息"
   ]
  },
  {
   "cell_type": "markdown",
   "id": "e0bdc23f",
   "metadata": {},
   "source": [
    "#### 1.讀取資料，留下訊息。  \n",
    "．LINE聊天室輸出的聊天記錄為txt檔，有三個column為時間、用戶名、訊息。  \n",
    "．去除聊天室連結，因英文字串無法呈現聊天內容。"
   ]
  },
  {
   "cell_type": "code",
   "execution_count": 2,
   "id": "f6605f74",
   "metadata": {},
   "outputs": [],
   "source": [
    "df1 = []\n",
    "with open('SW1.txt') as f:\n",
    "    while True:\n",
    "        line = f.readline()\n",
    "        if not line:\n",
    "            break\n",
    "        try:\n",
    "            i = line.index('http')\n",
    "        except ValueError: \n",
    "            if line[:2] in '下午' or line[:2] in '上午':\n",
    "                line = line[ line.index('\\t', 8)+1 :]\n",
    "                df1.append(line.replace('\\n', ''))"
   ]
  },
  {
   "cell_type": "markdown",
   "id": "6e3ebd4a",
   "metadata": {},
   "source": [
    "#### 2.分詞。  "
   ]
  },
  {
   "cell_type": "code",
   "execution_count": 3,
   "id": "fce4c7db",
   "metadata": {
    "scrolled": true
   },
   "outputs": [
    {
     "name": "stderr",
     "output_type": "stream",
     "text": [
      "Building prefix dict from the default dictionary ...\n",
      "Loading model from cache /var/folders/n5/l98y_t4948n_shwq2cwgyrgr0000gn/T/jieba.cache\n",
      "Loading model cost 0.439 seconds.\n",
      "Prefix dict has been built succesfully.\n"
     ]
    }
   ],
   "source": [
    "data_text1 = ''.join(df1)\n",
    "data_word1 = jieba.lcut(data_text1)"
   ]
  },
  {
   "cell_type": "markdown",
   "id": "10b66630",
   "metadata": {},
   "source": [
    "#### 3.了解訊息量、分詞量。  "
   ]
  },
  {
   "cell_type": "code",
   "execution_count": 4,
   "id": "82b25854",
   "metadata": {},
   "outputs": [
    {
     "name": "stdout",
     "output_type": "stream",
     "text": [
      "1884 11398\n"
     ]
    }
   ],
   "source": [
    "print(len(df1), len(data_word1))"
   ]
  },
  {
   "cell_type": "markdown",
   "id": "89cb4e34",
   "metadata": {},
   "source": [
    "#### 4.抽取常見詞。\n",
    "．經測試後，常見詞與總分詞量0.721的比例，在五個聊天室資料合併後，可以得到停用詞佔合併後總分詞量0.56的停用詞表。  "
   ]
  },
  {
   "cell_type": "code",
   "execution_count": 5,
   "id": "b1dd8249",
   "metadata": {},
   "outputs": [
    {
     "name": "stdout",
     "output_type": "stream",
     "text": [
      "193\n"
     ]
    }
   ],
   "source": [
    "words1 = Counter(data_word1)\n",
    "i=0\n",
    "while True:\n",
    "    i += 1\n",
    "    words_most1 = Counter( words1 ).most_common(i)\n",
    "    if sum(dict(words_most1).values())/len(data_word1) >= 0.7:\n",
    "        words_mostvalue = i\n",
    "        break;\n",
    "print(words_mostvalue)"
   ]
  },
  {
   "cell_type": "markdown",
   "id": "7c92ce5e",
   "metadata": {},
   "source": [
    "．詞頻前219高的分詞提取出來作為df1的常見詞。"
   ]
  },
  {
   "cell_type": "code",
   "execution_count": 6,
   "id": "901bd944",
   "metadata": {
    "scrolled": true
   },
   "outputs": [
    {
     "name": "stdout",
     "output_type": "stream",
     "text": [
      "('我', 493)\t\t(' ', 362)\t\t('的', 279)\t\t('⋯', 227)\t\t('哈哈', 198)\t\t('可以', 184)\t\t('有', 159)\t\t('是', 151)\t\t('個', 137)\t\t('好', 125)\t\t('那', 113)\t\t('～', 113)\t\t('你', 111)\t\t('🤩', 108)\t\t('嗎', 107)\t\t('要', 103)\t\t('！', 101)\t\t('我們', 99)\t\t('一', 91)\t\t('就', 91)\t\t('不', 90)\t\t('照片', 87)\t\t('[', 85)\t\t(']', 85)\t\t('也', 85)\t\t('（', 81)\t\t('但', 79)\t\t('(', 74)\t\t(')', 74)\t\t('）', 70)\t\t('很', 64)\t\t('還是', 61)\t\t('這', 61)\t\t('會', 60)\t\t('在', 59)\t\t('？', 57)\t\t('大家', 57)\t\t('再', 56)\t\t('對', 56)\t\t('想', 54)\t\t('都', 54)\t\t('沒', 54)\t\t('覺得', 53)\t\t('這樣', 52)\t\t('嗯', 52)\t\t('了', 51)\t\t('ㄉ', 47)\t\t('應該', 46)\t\t('看', 46)\t\t('還', 45)\t\t('他', 44)\t\t('感覺', 44)\t\t('說', 43)\t\t('桌子', 43)\t\t('跟', 42)\t\t('如果', 41)\t\t('東西', 37)\t\t('好好笑', 36)\t\t('沒有', 35)\t\t('去', 35)\t\t('欸', 34)\t\t('衣服', 33)\t\t('因為', 33)\t\t('你們', 33)\t\t('張', 33)\t\t('可', 33)\t\t('喔', 33)\t\t('喔喔', 33)\t\t('人', 31)\t\t('然後', 31)\t\t('比較', 31)\t\t('可能', 31)\t\t('笑死', 31)\t\t('兩', 30)\t\t('把', 30)\t\t('放', 29)\t\t('一下', 29)\t\t('帶', 29)\t\t('攤位', 28)\t\t('啊', 28)\t\t(':', 28)\t\t('超', 28)\t\t('好笑', 28)\t\t('賣', 28)\t\t('哈', 28)\t\t('話', 27)\t\t('衣架', 26)\t\t('ㄚ', 24)\t\t('好像', 24)\t\t('買', 24)\t\t('大', 24)\t\t('來', 23)\t\t('真的', 23)\t\t('乾', 23)\t\t('/', 22)\t\t('哇', 22)\t\t('。', 21)\t\t('家', 21)\t\t('標價', 21)\t\t('到', 21)\t\t('什麼', 20)\t\t('多', 20)\t\t('惹', 19)\t\t('不會', 19)\t\t('啦', 19)\t\t('*', 19)\t\t('就是', 19)\t\t('明天', 19)\t\t('耶', 18)\t\t('知道', 18)\t\t('問題', 18)\t\t('穿', 18)\t\t('擺', 17)\t\t('野餐', 17)\t\t('和', 17)\t\t('先', 17)\t\t('白色', 17)\t\t('自己', 16)\t\t('借', 16)\t\t('著', 16)\t\t('太', 16)\t\t('o', 16)\t\t('或', 15)\t\t('種', 15)\t\t('.', 15)\t\t('一點', 15)\t\t('🥲', 15)\t\t('姚', 14)\t\t('墊', 14)\t\t('最', 14)\t\t('市集', 14)\t\t('讚', 14)\t\t('他們', 14)\t\t('小', 13)\t\t('室桌', 13)\t\t('哪', 13)\t\t('攤', 13)\t\t('椅子', 13)\t\t('9', 13)\t\t('上', 13)\t\t('膠帶', 13)\t\t('排隊', 13)\t\t('一起', 12)\t\t('行李箱', 12)\t\t('方便', 12)\t\t('好了', 12)\t\t('不用', 12)\t\t('ㄟ', 12)\t\t('直接', 12)\t\t('可愛', 12)\t\t('時間', 12)\t\t('\"', 12)\t\t('給', 12)\t\t('ㄅ', 12)\t\t('過去', 12)\t\t('$', 12)\t\t('超級', 12)\t\t('三', 11)\t\t('吊衣桿', 11)\t\t('吧', 11)\t\t('之類', 11)\t\t('快', 11)\t\t('那天', 11)\t\t('多少', 11)\t\t('而且', 11)\t\t('只是', 11)\t\t('約', 11)\t\t('討論', 11)\t\t('不然', 11)\t\t('這麼', 11)\t\t('下', 11)\t\t('拿', 11)\t\t('被', 11)\t\t('懂', 11)\t\t('之後', 11)\t\t('emoji', 11)\t\t('ㄇ', 11)\t\t('不要', 11)\t\t('高', 11)\t\t('11', 11)\t\t('00', 11)\t\t('上衣', 10)\t\t('時候', 10)\t\t('1', 10)\t\t('確定', 10)\t\t('、', 10)\t\t('目前', 10)\t\t('其實', 10)\t\t('有沒有', 10)\t\t('25', 10)\t\t('不行', 10)\t\t('搬', 10)\t\t('到時候', 10)\t\t"
     ]
    }
   ],
   "source": [
    "words_most1 = Counter( words1 ).most_common(words_mostvalue)\n",
    "for item in words_most1:\n",
    "    print( item, end='\\t\\t' )"
   ]
  },
  {
   "cell_type": "markdown",
   "id": "3d105a29",
   "metadata": {},
   "source": [
    "．策展群組全部訊息，重複1.-4.步驟"
   ]
  },
  {
   "cell_type": "code",
   "execution_count": 7,
   "id": "4052d4d5",
   "metadata": {},
   "outputs": [],
   "source": [
    "df2 = []\n",
    "with open('SW2.txt') as f:\n",
    "    while True:\n",
    "        line = f.readline()\n",
    "        if not line:\n",
    "            break\n",
    "        try:\n",
    "            i = line.index('http')\n",
    "        except ValueError: \n",
    "            if line[:2] in '下午' or line[:2] in '上午':\n",
    "                line = line[ line.index('\\t', 8)+1 :]\n",
    "                df2.append(line.replace('\\n', ''))"
   ]
  },
  {
   "cell_type": "code",
   "execution_count": 8,
   "id": "48584dcb",
   "metadata": {
    "scrolled": true
   },
   "outputs": [],
   "source": [
    "data_text2 = ''.join(df2)\n",
    "data_word2 = jieba.lcut(data_text2)"
   ]
  },
  {
   "cell_type": "code",
   "execution_count": 9,
   "id": "ac91edf5",
   "metadata": {
    "scrolled": true
   },
   "outputs": [
    {
     "name": "stdout",
     "output_type": "stream",
     "text": [
      "1656 10884\n"
     ]
    }
   ],
   "source": [
    "print(len(df2), len(data_word2))"
   ]
  },
  {
   "cell_type": "code",
   "execution_count": 10,
   "id": "c7531a38",
   "metadata": {
    "scrolled": true
   },
   "outputs": [
    {
     "name": "stdout",
     "output_type": "stream",
     "text": [
      "215\n"
     ]
    }
   ],
   "source": [
    "words2 = Counter(data_word2)\n",
    "i=0\n",
    "while True:\n",
    "    i += 1\n",
    "    words_most2 = Counter( words2 ).most_common(i)\n",
    "    if sum(dict(words_most2).values())/len(data_word2) >= 0.7:\n",
    "        words_mostvalue = i\n",
    "        break;\n",
    "print(words_mostvalue)"
   ]
  },
  {
   "cell_type": "code",
   "execution_count": 11,
   "id": "c41161ec",
   "metadata": {
    "scrolled": true
   },
   "outputs": [
    {
     "name": "stdout",
     "output_type": "stream",
     "text": [
      "('我', 461)\t\t('～', 311)\t\t('的', 287)\t\t(' ', 285)\t\t('是', 171)\t\t('可以', 166)\t\t('我們', 137)\t\t('哈哈', 136)\t\t('個', 127)\t\t('那', 122)\t\t('嗎', 121)\t\t('⋯', 111)\t\t('要', 109)\t\t('有', 108)\t\t('[', 107)\t\t(']', 106)\t\t('不', 102)\t\t('！', 100)\t\t('就', 88)\t\t('也', 87)\t\t('一', 86)\t\t('照片', 86)\t\t('但', 86)\t\t('在', 85)\t\t('這', 81)\t\t('你', 77)\t\t('好', 70)\t\t('了', 70)\t\t('覺得', 65)\t\t('(', 61)\t\t(')', 61)\t\t('看', 59)\t\t('還是', 55)\t\t('想', 52)\t\t('？', 50)\t\t('還', 47)\t\t('他', 47)\t\t('一下', 46)\t\t('沒', 46)\t\t('然後', 46)\t\t('把', 45)\t\t('這樣', 44)\t\t('都', 43)\t\t('喔', 43)\t\t('感覺', 42)\t\t('對', 41)\t\t('嗯', 38)\t\t('跟', 38)\t\t('你們', 37)\t\t('什麼', 37)\t\t('再', 37)\t\t('說', 37)\t\t('會', 36)\t\t('哈', 34)\t\t('他們', 34)\t\t('耶', 33)\t\t('應該', 33)\t\t('😍', 33)\t\t('沒有', 32)\t\t('（', 31)\t\t('人', 31)\t\t('先', 30)\t\t('可能', 30)\t\t('啊', 29)\t\t('）', 29)\t\t('很', 29)\t\t('@', 28)\t\t('如果', 28)\t\t('比較', 28)\t\t('檔案', 27)\t\t('貼圖', 27)\t\t('好像', 26)\t\t('內容', 26)\t\t('放', 25)\t\t('一點', 25)\t\t('上', 25)\t\t('ㄉ', 25)\t\t('惹', 25)\t\t('用', 25)\t\t('不用', 25)\t\t('...', 25)\t\t('太', 24)\t\t('ㄌ', 23)\t\t('現在', 23)\t\t('明天', 22)\t\t('\"', 21)\t\t('頁', 21)\t\t('到', 20)\t\t('豪', 20)\t\t('喔喔', 20)\t\t('展區', 20)\t\t('第', 20)\t\t('笑死', 19)\t\t('去', 19)\t\t('🥺', 19)\t\t('耀', 19)\t\t('字', 19)\t\t('來', 18)\t\t('約', 18)\t\t('.', 18)\t\t('改', 18)\t\t('幫', 18)\t\t('做', 18)\t\t('主題', 18)\t\t('可', 17)\t\t('*', 17)\t\t('話', 17)\t\t('問題', 17)\t\t('兩', 17)\t\t('講', 17)\t\t('預算', 17)\t\t('呀', 17)\t\t('、', 17)\t\t('大家', 16)\t\t('~', 16)\t\t('要不要', 16)\t\t('些', 16)\t\t('今天', 16)\t\t('次', 16)\t\t('誒', 16)\t\t('吧', 16)\t\t('才', 16)\t\t('一起', 16)\t\t('簡報', 15)\t\t('那邊', 15)\t\t('只是', 15)\t\t('怎麼', 15)\t\t('寫', 15)\t\t('因為', 15)\t\t('三', 15)\t\t('/', 14)\t\t('欸', 14)\t\t('知道', 14)\t\t('大', 14)\t\t('就是', 14)\t\t('之前', 13)\t\t('晚上', 13)\t\t('找', 13)\t\t('所以', 13)\t\t('啦', 13)\t\t('之類', 13)\t\t('ㄚ', 13)\t\t('展覽', 13)\t\t('不會', 13)\t\t('給', 13)\t\t('時候', 12)\t\t('討論', 12)\t\t('時間', 12)\t\t('部分', 12)\t\t('一樣', 12)\t\t('嗚嗚', 12)\t\t('顏色', 12)\t\t('展場', 12)\t\t('等等', 12)\t\t('直接', 12)\t\t('宣傳', 12)\t\t('禮拜', 11)\t\t('和', 11)\t\t('書寧', 11)\t\t('o', 11)\t\t('哪', 11)\t\t('更', 11)\t\t('或是', 11)\t\t('記得', 11)\t\t('最後', 11)\t\t('萬', 11)\t\t('打', 11)\t\t('有點', 11)\t\t('我覺', 11)\t\t('四', 11)\t\t('ppt', 11)\t\t('沒事', 11)\t\t('剛', 11)\t\t('不要', 11)\t\t('好了', 11)\t\t('音樂祭', 11)\t\t('行銷', 11)\t\t('ﾟ', 10)\t\t('虧', 10)\t\t('或', 10)\t\t('8', 10)\t\t('30', 10)\t\t('等', 10)\t\t('只', 10)\t\t('剛才', 10)\t\t('音樂', 10)\t\t('已', 10)\t\t('懂', 10)\t\t('張', 10)\t\t('呈現', 10)\t\t('只有', 10)\t\t('啥', 10)\t\t('千禧', 10)\t\t('分', 9)\t\t('東西', 9)\t\t('歐', 9)\t\t('沒關係', 9)\t\t('自己', 9)\t\t('其', 9)\t\t('呢', 9)\t\t('前', 9)\t\t('已經', 9)\t\t('原本', 9)\t\t('下', 9)\t\t('雖然', 9)\t\t('黃', 9)\t\t('報名', 9)\t\t('ㄇ', 9)\t\t('啊啊', 9)\t\t('看看', 9)\t\t('..', 9)\t\t('現場', 9)\t\t('🥵', 9)\t\t('雲端', 8)\t\t('佳芬', 8)\t\t"
     ]
    }
   ],
   "source": [
    "words_most2 = Counter( words2 ).most_common(words_mostvalue)\n",
    "for item in words_most2:\n",
    "    print( item, end='\\t\\t' )"
   ]
  },
  {
   "cell_type": "markdown",
   "id": "a93a85b4",
   "metadata": {},
   "source": [
    "．朋友1聊天訊息，重複1.-4.步驟"
   ]
  },
  {
   "cell_type": "code",
   "execution_count": 12,
   "id": "e3e628d7",
   "metadata": {},
   "outputs": [],
   "source": [
    "df3 = []\n",
    "with open('SW3.txt') as f:\n",
    "    while True:\n",
    "        line = f.readline()\n",
    "        if not line:\n",
    "            break\n",
    "        try:\n",
    "            i = line.index('http')\n",
    "        except ValueError: \n",
    "            if line[:2] in '下午' or line[:2] in '上午':\n",
    "                line = line[ line.index('\\t', 8)+1 :]\n",
    "                df3.append(line.replace('\\n', ''))"
   ]
  },
  {
   "cell_type": "code",
   "execution_count": 13,
   "id": "6a0df4c8",
   "metadata": {
    "scrolled": true
   },
   "outputs": [],
   "source": [
    "data_text3 = ''.join(df3)\n",
    "data_word3 = jieba.lcut(data_text3)"
   ]
  },
  {
   "cell_type": "code",
   "execution_count": 14,
   "id": "2774ee35",
   "metadata": {},
   "outputs": [
    {
     "name": "stdout",
     "output_type": "stream",
     "text": [
      "52715 193763\n"
     ]
    }
   ],
   "source": [
    "print(len(df3), len(data_word3))"
   ]
  },
  {
   "cell_type": "code",
   "execution_count": 15,
   "id": "b258af84",
   "metadata": {},
   "outputs": [
    {
     "name": "stdout",
     "output_type": "stream",
     "text": [
      "253\n"
     ]
    }
   ],
   "source": [
    "words3 = Counter(data_word3)\n",
    "i=0\n",
    "while True:\n",
    "    i += 1\n",
    "    words_most3 = Counter( words3 ).most_common(i)\n",
    "    if sum(dict(words_most3).values())/len(data_word3) >= 0.7:\n",
    "        words_mostvalue = i\n",
    "        break;\n",
    "print(words_mostvalue)"
   ]
  },
  {
   "cell_type": "code",
   "execution_count": 16,
   "id": "dc1d4bc1",
   "metadata": {
    "scrolled": true
   },
   "outputs": [
    {
     "name": "stdout",
     "output_type": "stream",
     "text": [
      "('我', 10999)\t\t('的', 5084)\t\t('你', 4199)\t\t('是', 3348)\t\t('了', 3131)\t\t('不', 2877)\t\t('好', 2308)\t\t('要', 2240)\t\t('就', 2226)\t\t('？', 2172)\t\t('啊', 2074)\t\t('[', 1911)\t\t(']', 1911)\t\t('有', 1660)\t\t('個', 1640)\t\t('他', 1636)\t\t('在', 1629)\t\t('很', 1627)\t\t(' ', 1599)\t\t('那', 1569)\t\t('去', 1536)\t\t('可以', 1440)\t\t('欸', 1417)\t\t('也', 1309)\t\t('看', 1267)\t\t('嗎', 1222)\t\t('都', 1216)\t\t('照片', 1214)\t\t('一', 1168)\t\t('乾', 1148)\t\t('說', 1098)\t\t('但', 1080)\t\t('吧', 1061)\t\t('想', 1036)\t\t('會', 1030)\t\t('喔', 1030)\t\t('還', 945)\t\t('沒', 932)\t\t('對', 908)\t\t('我們', 902)\t\t('真的', 900)\t\t('笑死', 896)\t\t('跟', 878)\t\t('覺得', 854)\t\t('沒有', 852)\t\t('啦', 798)\t\t('買', 785)\t\t('這', 760)\t\t('知道', 728)\t\t('好好笑', 709)\t\t('還是', 700)\t\t('吃', 698)\t\t('貼圖', 691)\t\t('⋯', 690)\t\t('唉', 615)\t\t('(', 604)\t\t(')', 602)\t\t('不要', 590)\t\t('什麼', 583)\t\t('ㄚ', 559)\t\t('應該', 543)\t\t('只是', 509)\t\t('嗯', 502)\t\t('ㄉ', 498)\t\t('感覺', 496)\t\t('現在', 484)\t\t('ㄅ', 470)\t\t('哈哈', 466)\t\t('哪', 456)\t\t('人', 453)\t\t('ˉ', 450)\t\t('超', 447)\t\t('好像', 442)\t\t('禮拜', 439)\t\t('然後', 435)\t\t('☎', 416)\t\t('ㄌ', 415)\t\t('不會', 408)\t\t('再', 406)\t\t('耶', 402)\t\t('太', 393)\t\t('家', 379)\t\t('就是', 376)\t\t('今天', 375)\t\t('來', 374)\t\t('時間', 373)\t\t('又', 366)\t\t('這樣', 364)\t\t('自己', 363)\t\t('已經', 340)\t\t('穿', 338)\t\t('找', 337)\t\t('給', 333)\t\t('快', 332)\t\t('好好', 332)\t\t('到', 328)\t\t('明天', 325)\t\t('ㄇ', 323)\t\t('怎麼', 322)\t\t('可愛', 317)\t\t('才', 304)\t\t('時候', 296)\t\t('好看', 292)\t\t('次', 283)\t\t('剛剛', 281)\t\t('睡', 275)\t\t('先', 274)\t\t('兩', 273)\t\t('而且', 271)\t\t('到底', 270)\t\t('通話', 269)\t\t('被', 268)\t\t('喔喔', 267)\t\t('幾', 259)\t\t('.', 258)\t\t(':', 258)\t\t('偶', 254)\t\t('好了', 250)\t\t('可能', 246)\t\t('這麼', 241)\t\t('比較', 236)\t\t('等', 234)\t\t('下', 234)\t\t('直接', 234)\t\t('！', 229)\t\t('把', 228)\t\t('還好', 227)\t\t('一直', 227)\t\t('點', 221)\t\t('怎樣', 220)\t\t('所以', 220)\t\t('晚上', 218)\t\t('看到', 218)\t\t('一下', 216)\t\t('做', 216)\t\t('不能', 212)\t\t('可', 212)\t\t('有點', 209)\t\t('上', 203)\t\t('出門', 202)\t\t('想要', 200)\t\t('那你', 197)\t\t('因為', 196)\t\t('三小', 196)\t\t('一起', 196)\t\t('真假', 196)\t\t('蛤', 195)\t\t('ㄞ', 191)\t\t('ㄛ', 190)\t\t('一定', 190)\t\t('件', 189)\t\t('東西', 189)\t\t('喜歡', 189)\t\t('小', 189)\t\t('emoji', 188)\t\t('好爽', 186)\t\t('昨天', 183)\t\t('一點', 183)\t\t('反正', 183)\t\t('好吃', 182)\t\t('看看', 181)\t\t('只', 181)\t\t('好笑', 179)\t\t('多', 179)\t\t('開始', 177)\t\t('玩', 173)\t\t('不然', 172)\t\t('約', 172)\t\t('衣服', 171)\t\t('啥', 169)\t\t('幹', 169)\t\t('他們', 168)\t\t('大', 167)\t\t('種', 167)\t\t('錢', 165)\t\t('幫', 162)\t\t('媽', 162)\t\t('希望', 160)\t\t('要去', 160)\t\t('叫', 155)\t\t('要不要', 153)\t\t('回家', 152)\t\t('很棒', 150)\t\t('死', 150)\t\t('幹嘛', 150)\t\t('著', 149)\t\t('可怕', 148)\t\t('不行', 146)\t\t('還要', 145)\t\t('ㄜ', 145)\t\t('認真', 145)\t\t('喝', 145)\t\t('累', 144)\t\t('你們', 143)\t\t('ㄟ', 143)\t\t('很多', 142)\t\t('可憐', 141)\t\t('呢', 141)\t\t('誰', 141)\t\t('傻眼', 141)\t\t('靠', 139)\t\t('一樣', 139)\t\t('開心', 138)\t\t('打', 138)\t\t('之後', 138)\t\t('好累', 137)\t\t('回', 137)\t\t('講', 137)\t\t('出去', 136)\t\t('和', 135)\t\t('阿', 132)\t\t('：', 131)\t\t('本來', 131)\t\t('她', 131)\t\t('怎麼辦', 129)\t\t('起來', 128)\t\t('帶', 127)\t\t('等等', 127)\t\t('當', 126)\t\t('以為', 126)\t\t('話', 126)\t\t('…', 126)\t\t('哈', 124)\t\t('等一下', 124)\t\t('（', 122)\t\t('之前', 122)\t\t('天', 121)\t\t('哇', 121)\t\t('♡', 121)\t\t('超級', 120)\t\t('早上', 119)\t\t('）', 119)\t\t('睡覺', 118)\t\t('日本', 116)\t\t('結果', 114)\t\t('會不會', 112)\t\t('雞掰', 111)\t\t('那邊', 111)\t\t('不錯', 110)\t\t('...', 109)\t\t('擊敗', 109)\t\t('訊息', 109)\t\t('忘記', 107)\t\t('雖然', 107)\t\t('聽', 106)\t\t('大家', 105)\t\t('邀', 105)\t\t('沒事', 105)\t\t('蠻', 104)\t\t('已', 104)\t\t('0', 103)\t\t('讓', 102)\t\t('為什麼', 102)\t\t"
     ]
    }
   ],
   "source": [
    "words_most3 = Counter( words3 ).most_common(words_mostvalue)\n",
    "for item in words_most3:\n",
    "    print( item, end='\\t\\t' )"
   ]
  },
  {
   "cell_type": "markdown",
   "id": "60a7ef1e",
   "metadata": {},
   "source": [
    "．朋友2聊天訊息，重複1.-4.步驟"
   ]
  },
  {
   "cell_type": "code",
   "execution_count": 17,
   "id": "1f7ac3bb",
   "metadata": {
    "scrolled": true
   },
   "outputs": [],
   "source": [
    "df4 = []\n",
    "with open('SW4.txt') as f:\n",
    "    while True:\n",
    "        line = f.readline()\n",
    "        if not line:\n",
    "            break\n",
    "        try:\n",
    "            i = line.index('http')\n",
    "        except ValueError: \n",
    "            if line[:2] in '下午' or line[:2] in '上午':\n",
    "                line = line[ line.index('\\t', 8)+1 :]\n",
    "                df4.append(line.replace('\\n', ''))"
   ]
  },
  {
   "cell_type": "code",
   "execution_count": 18,
   "id": "4e4a8acf",
   "metadata": {
    "scrolled": true
   },
   "outputs": [],
   "source": [
    "data_text4 = ''.join(df4)\n",
    "data_word4 = jieba.lcut(data_text4)"
   ]
  },
  {
   "cell_type": "code",
   "execution_count": 19,
   "id": "001ceaa5",
   "metadata": {},
   "outputs": [
    {
     "name": "stdout",
     "output_type": "stream",
     "text": [
      "12278 57097\n"
     ]
    }
   ],
   "source": [
    "print(len(df4), len(data_word4))"
   ]
  },
  {
   "cell_type": "code",
   "execution_count": 20,
   "id": "0d0f3e55",
   "metadata": {},
   "outputs": [
    {
     "name": "stdout",
     "output_type": "stream",
     "text": [
      "175\n"
     ]
    }
   ],
   "source": [
    "words4 = Counter(data_word4)\n",
    "i=0\n",
    "while True:\n",
    "    i += 1\n",
    "    words_most4 = Counter( words4 ).most_common(i)\n",
    "    if sum(dict(words_most4).values())/len(data_word4) >= 0.7:\n",
    "        words_mostvalue = i\n",
    "        break;\n",
    "print(words_mostvalue)"
   ]
  },
  {
   "cell_type": "code",
   "execution_count": 21,
   "id": "b2ebb54b",
   "metadata": {
    "scrolled": true
   },
   "outputs": [
    {
     "name": "stdout",
     "output_type": "stream",
     "text": [
      "('我', 2869)\t\t('哈哈', 2556)\t\t('～', 1308)\t\t('你', 1202)\t\t('的', 1050)\t\t(' ', 889)\t\t('！', 724)\t\t('是', 721)\t\t('⋯', 693)\t\t('可以', 637)\t\t('不', 572)\t\t('嗯', 549)\t\t('要', 538)\t\t('那', 538)\t\t('嗎', 506)\t\t('就', 493)\t\t('[', 491)\t\t(']', 491)\t\t('好', 470)\t\t('他', 468)\t\t('哈', 463)\t\t('有', 462)\t\t('了', 454)\t\t('在', 446)\t\t('也', 444)\t\t('個', 443)\t\t('(', 426)\t\t(')', 426)\t\t('很', 391)\t\t('？', 364)\t\t('想', 355)\t\t('我們', 345)\t\t('去', 340)\t\t('看', 336)\t\t('啊', 307)\t\t('跟', 303)\t\t('都', 299)\t\t('說', 297)\t\t('但', 295)\t\t('對', 290)\t\t('會', 281)\t\t('覺得', 281)\t\t('真的', 280)\t\t('一', 280)\t\t('吃', 263)\t\t('這', 250)\t\t('貼圖', 248)\t\t('ㄉ', 244)\t\t('沒', 236)\t\t('還', 232)\t\t('照片', 227)\t\t('應該', 222)\t\t('ㄚ', 222)\t\t('還是', 211)\t\t('再', 190)\t\t('乾', 188)\t\t('🥺', 185)\t\t('約', 181)\t\t('耶', 179)\t\t('人', 179)\t\t('只是', 173)\t\t('現在', 170)\t\t('禮拜', 170)\t\t('😍', 168)\t\t('自己', 165)\t\t('知道', 161)\t\t('欸', 161)\t\t('惹', 161)\t\t('感覺', 156)\t\t('笑死', 154)\t\t('好像', 148)\t\t('啦', 144)\t\t('沒有', 140)\t\t('什麼', 137)\t\t('可', 136)\t\t('明天', 133)\t\t('就是', 130)\t\t('喔喔', 127)\t\t('時間', 124)\t\t('到', 122)\t\t('超', 120)\t\t('喔', 117)\t\t('先', 113)\t\t('做', 106)\t\t('姚', 105)\t\t('一起', 101)\t\t('然後', 100)\t\t('因為', 99)\t\t('*', 99)\t\t('一下', 98)\t\t('喜歡', 97)\t\t('哪', 97)\t\t('吧', 97)\t\t('太', 97)\t\t('可能', 97)\t\t('o', 97)\t\t('時候', 96)\t\t('ﾟ', 96)\t\t('回', 92)\t\t('而且', 92)\t\t('☎', 90)\t\t('不會', 90)\t\t('.', 90)\t\t('（', 87)\t\t('妳', 86)\t\t('豪', 86)\t\t('給', 86)\t\t('歐', 86)\t\t('）', 85)\t\t('找', 85)\t\t('ㄌ', 85)\t\t('這樣', 84)\t\t('下', 82)\t\t('講', 82)\t\t('家', 81)\t\t('今天', 81)\t\t('真假', 81)\t\t('ˉ', 80)\t\t('話', 80)\t\t('兩', 78)\t\t('買', 77)\t\t('ㄛ', 77)\t\t('等', 76)\t\t('那你', 75)\t\t('看到', 73)\t\t('台北', 72)\t\t('最近', 71)\t\t('如果', 71)\t\t('蠻', 71)\t\t('次', 71)\t\t('比較', 70)\t\t('快', 69)\t\t('ㄇ', 69)\t\t(':', 68)\t\t('其實', 68)\t\t('好好', 68)\t\t('ㄅ', 68)\t\t('通話', 67)\t\t('好好笑', 67)\t\t('還好', 67)\t\t('🥰', 67)\t\t('點', 66)\t\t('▽', 65)\t\t('來', 65)\t\t('你們', 65)\t\t('才', 65)\t\t('怎麼', 64)\t\t('幾', 63)\t\t('有空', 63)\t\t('所以', 63)\t\t('把', 62)\t\t('不要', 61)\t\t('有點', 61)\t\t('又', 60)\t\t('被', 59)\t\t('🥲', 59)\t\t('結果', 58)\t\t('沒事', 58)\t\t('看看', 57)\t\t('東西', 56)\t\t('一點', 56)\t\t('啥', 56)\t\t('開始', 56)\t\t('啊啊', 56)\t\t('晚上', 56)\t\t('唉', 55)\t\t('一定', 54)\t\t('種', 54)\t\t('沒關係', 54)\t\t('emoji', 54)\t\t('上', 53)\t\t('直接', 53)\t\t('好笑', 52)\t\t('很多', 51)\t\t('大概', 51)\t\t"
     ]
    }
   ],
   "source": [
    "words_most4 = Counter(words4).most_common(words_mostvalue)\n",
    "for item in words_most4:\n",
    "    print( item, end='\\t\\t' )"
   ]
  },
  {
   "cell_type": "markdown",
   "id": "6d9134e3",
   "metadata": {},
   "source": [
    "．朋友3聊天訊息，重複1.-4.步驟"
   ]
  },
  {
   "cell_type": "code",
   "execution_count": 22,
   "id": "d0f196df",
   "metadata": {
    "scrolled": true
   },
   "outputs": [],
   "source": [
    "df5 = []\n",
    "with open('SW5.txt') as f:\n",
    "    while True:\n",
    "        line = f.readline()\n",
    "        if not line:\n",
    "            break\n",
    "        try:\n",
    "            i = line.index('http')\n",
    "        except ValueError: \n",
    "            if line[:2] in '下午' or line[:2] in '上午':\n",
    "                line = line[ line.index('\\t', 8)+1 :]\n",
    "                df5.append(line.replace('\\n', ''))"
   ]
  },
  {
   "cell_type": "code",
   "execution_count": 23,
   "id": "5ab4f021",
   "metadata": {
    "scrolled": true
   },
   "outputs": [],
   "source": [
    "data_text5 = ''.join(df5)\n",
    "data_word5 = jieba.lcut(data_text5)"
   ]
  },
  {
   "cell_type": "code",
   "execution_count": 24,
   "id": "10fb37a2",
   "metadata": {},
   "outputs": [
    {
     "name": "stdout",
     "output_type": "stream",
     "text": [
      "4162 17503\n"
     ]
    }
   ],
   "source": [
    "print(len(df5), len(data_word5))"
   ]
  },
  {
   "cell_type": "code",
   "execution_count": 25,
   "id": "8ee36620",
   "metadata": {},
   "outputs": [
    {
     "name": "stdout",
     "output_type": "stream",
     "text": [
      "269\n"
     ]
    }
   ],
   "source": [
    "words5 = Counter(data_word5)\n",
    "i=0\n",
    "while True:\n",
    "    i += 1\n",
    "    words_most5 = Counter( words5 ).most_common(i)\n",
    "    if sum(dict(words_most5).values())/len(data_word5) >= 0.7:\n",
    "        words_mostvalue = i\n",
    "        break;\n",
    "print(words_mostvalue)"
   ]
  },
  {
   "cell_type": "code",
   "execution_count": 26,
   "id": "f11058be",
   "metadata": {
    "scrolled": true
   },
   "outputs": [
    {
     "name": "stdout",
     "output_type": "stream",
     "text": [
      "('我', 749)\t\t('的', 458)\t\t('你', 331)\t\t('[', 298)\t\t(']', 298)\t\t('了', 297)\t\t('好', 246)\t\t('是', 228)\t\t('笑死', 223)\t\t('欸', 217)\t\t('不', 192)\t\t('嗎', 186)\t\t('？', 182)\t\t('要', 176)\t\t('！', 172)\t\t('有', 171)\t\t('去', 152)\t\t(' ', 150)\t\t('啊', 149)\t\t('照片', 148)\t\t('個', 147)\t\t('那', 146)\t\t('也', 132)\t\t('他', 132)\t\t('可以', 131)\t\t('很', 122)\t\t('在', 109)\t\t('喔', 108)\t\t('就', 108)\t\t('哈哈', 101)\t\t('貼圖', 100)\t\t('說', 99)\t\t('還', 97)\t\t('但', 92)\t\t('看', 90)\t\t('我們', 87)\t\t('想', 85)\t\t('一', 84)\t\t('會', 84)\t\t('都', 79)\t\t('吃', 79)\t\t('超', 74)\t\t('這', 73)\t\t('真的', 73)\t\t('沒', 72)\t\t('對', 65)\t\t('買', 61)\t\t('跟', 60)\t\t('⋯', 55)\t\t('沒有', 55)\t\t('(', 53)\t\t(')', 53)\t\t('太', 49)\t\t('ㄉ', 49)\t\t('再', 48)\t\t('還是', 48)\t\t('好了', 47)\t\t('ㄌ', 46)\t\t('：', 46)\t\t('吧', 46)\t\t('\"', 45)\t\t('今天', 45)\t\t('好笑', 45)\t\t('知道', 43)\t\t('好像', 42)\t\t('哪', 41)\t\t('覺得', 41)\t\t('讚', 40)\t\t('給', 39)\t\t('怎麼', 39)\t\t('哇', 38)\t\t('應該', 38)\t\t('嘔嘔', 38)\t\t('）', 36)\t\t('次', 36)\t\t('現在', 35)\t\t('明天', 35)\t\t('到', 34)\t\t('好好笑', 34)\t\t('人', 34)\t\t('找', 34)\t\t('快', 34)\t\t('啦', 34)\t\t('來', 32)\t\t('剛剛', 32)\t\t('（', 31)\t\t('虧', 31)\t\t('然後', 31)\t\t(':', 31)\t\t('時間', 31)\t\t('/', 31)\t\t('哈', 30)\t\t('要不要', 30)\t\t('一下', 30)\t\t('影片', 30)\t\t('不要', 29)\t\t('什麼', 28)\t\t('話', 28)\t\t('不會', 28)\t\t('約', 28)\t\t('等', 27)\t\t('～', 27)\t\t('問', 27)\t\t('…', 27)\t\t('等等', 27)\t\t('相簿', 27)\t\t('看起來', 27)\t\t('這樣', 26)\t\t('感覺', 26)\t\t('null', 26)\t\t('下', 25)\t\t('☎', 25)\t\t('她', 24)\t\t('\\U0001f979', 24)\t\t('耶', 24)\t\t('你們', 24)\t\t('又', 24)\t\t('回', 24)\t\t('剛', 23)\t\t('有點', 23)\t\t('死', 23)\t\t('.', 22)\t\t('幾', 21)\t\t('兩', 21)\t\t('多', 21)\t\t('喝', 21)\t\t('一點', 21)\t\t('好吃', 21)\t\t('上', 20)\t\t('東西', 20)\t\t('ㄚ', 20)\t\t('時候', 20)\t\t('幫', 20)\t\t('要去', 20)\t\t('禮拜', 19)\t\t('+', 19)\t\t('才', 18)\t\t('比較', 18)\t\t('記得', 18)\t\t('0', 18)\t\t('通話', 18)\t\t('昨天', 18)\t\t('靠', 18)\t\t('啥', 17)\t\t('洗澡', 17)\t\t('寫', 17)\t\t('晚上', 17)\t\t('幹嘛', 17)\t\t('出門', 17)\t\t('到底', 17)\t\t('天', 16)\t\t('自己', 16)\t\t('帶', 16)\t\t('回去', 16)\t\t('一起', 16)\t\t('真假', 16)\t\t('可', 16)\t\t('只是', 16)\t\t('被', 16)\t\t('幹', 16)\t\t('ユ', 16)\t\t('拿', 16)\t\t('謝謝', 15)\t\t('就是', 15)\t\t('小', 15)\t\t('3', 15)\t\t('點', 15)\t\t('看到', 15)\t\t('宿舍', 15)\t\t('回來', 15)\t\t('1', 15)\t\t('期待', 15)\t\t('那麼', 15)\t\t('先', 15)\t\t('叫', 15)\t\t('房間', 15)\t\t('結果', 15)\t\t('不錯', 15)\t\t('可能', 15)\t\t('把', 14)\t\t('如果', 14)\t\t('日本', 14)\t\t('看看', 14)\t\t('其實', 14)\t\t('會不會', 14)\t\t('11', 14)\t\t('好好', 14)\t\t('還好', 14)\t\t('呢', 14)\t\t('東京', 14)\t\t('12', 14)\t\t('2', 14)\t\t('已經', 14)\t\t('因為', 13)\t\t('朋友', 13)\t\t('好滴', 13)\t\t('30', 13)\t\t('阿', 13)\t\t('ㄇ', 13)\t\t('乾', 13)\t\t('好看', 13)\t\t('穴穴', 13)\t\t('錢', 13)\t\t('睡', 13)\t\t('吐', 13)\t\t('發現', 12)\t\t('ㄟ', 12)\t\t('希望', 12)\t\t('澀谷', 12)\t\t('玩', 12)\t\t('所以', 12)\t\t('這麼', 12)\t\t('出來', 12)\t\t('杯', 12)\t\t('走', 12)\t\t('=', 12)\t\t('小心', 12)\t\t('讚讚', 11)\t\t('只', 11)\t\t('拍', 11)\t\t('喜歡', 11)\t\t('煮', 11)\t\t('他們', 11)\t\t('以為', 11)\t\t('過', 11)\t\t('不能', 11)\t\t('好棒', 11)\t\t('忘記', 11)\t\t('ー', 11)\t\t('^', 11)\t\t('ㄦ', 11)\t\t('您', 11)\t\t('還要', 11)\t\t('誰', 11)\t\t('之前', 11)\t\t('冷', 11)\t\t('可愛', 11)\t\t('嘉文', 11)\t\t('⁎', 10)\t\t('⁍', 10)\t\t('̴', 10)\t\t('̛', 10)\t\t('ㄏ', 10)\t\t('到時候', 10)\t\t('上課', 10)\t\t('和', 10)\t\t('大概', 10)\t\t('一直', 10)\t\t('開始', 10)\t\t('而且', 10)\t\t('累', 10)\t\t('問問', 10)\t\t('用', 10)\t\t('￣', 10)\t\t('加油', 10)\t\t('不然', 10)\t\t('行', 10)\t\t('喔喔', 10)\t\t('の', 10)\t\t('外宿', 10)\t\t('嘔', 10)\t\t('飯店', 10)\t\t('萬聖節', 10)\t\t('學姊', 9)\t\t('正在', 9)\t\t('確定', 9)\t\t('非常', 9)\t\t('日文', 9)\t\t('有沒有', 9)\t\t"
     ]
    }
   ],
   "source": [
    "words_most5 = Counter(words5).most_common(words_mostvalue)\n",
    "for item in words_most5:\n",
    "    print( item, end='\\t\\t' )"
   ]
  },
  {
   "cell_type": "markdown",
   "id": "630c2eb1",
   "metadata": {},
   "source": [
    "### Stop Words(2)"
   ]
  },
  {
   "cell_type": "code",
   "execution_count": 27,
   "id": "c36bb2cc",
   "metadata": {},
   "outputs": [],
   "source": [
    "stopword1 = {}\n",
    "stopword2 = {}\n",
    "words_most1 = dict(words_most1)\n",
    "words_most2 = dict(words_most2)\n",
    "words_most3 = dict(words_most3)\n",
    "words_most4 = dict(words_most4)\n",
    "words_most5 = dict(words_most5)\n",
    "words1 = dict(words1)\n",
    "words2 = dict(words2)\n",
    "words3 = dict(words3)\n",
    "words4 = dict(words4)\n",
    "words5 = dict(words5)"
   ]
  },
  {
   "cell_type": "markdown",
   "id": "abee33b6",
   "metadata": {},
   "source": [
    "#### Stop Words(2.1)：篩選五個詞彙庫抽取常見詞的交集"
   ]
  },
  {
   "cell_type": "code",
   "execution_count": 28,
   "id": "088bb3f2",
   "metadata": {},
   "outputs": [
    {
     "name": "stdout",
     "output_type": "stream",
     "text": [
      "98\n"
     ]
    }
   ],
   "source": [
    "for key, value in words_most5.items():\n",
    "    if key in words_most2 and key in words_most3 and key in words_most4 and key in words_most1:\n",
    "        v2 = words_most2[key]\n",
    "        v3 = words_most3[key]\n",
    "        v4 = words_most4[key]\n",
    "        v5 = words_most5[key]\n",
    "        stopword1.update({key:value+v2+v3+v4+v5})\n",
    "print(len(stopword1))"
   ]
  },
  {
   "cell_type": "code",
   "execution_count": 29,
   "id": "b373e748",
   "metadata": {
    "scrolled": false
   },
   "outputs": [
    {
     "name": "stdout",
     "output_type": "stream",
     "text": [
      "('我',15827)\t\t('的',7337)\t\t('你',6140)\t\t('[',3105)\t\t(']',3104)\t\t('了',4249)\t\t('好',3340)\t\t('是',4696)\t\t('笑死',1515)\t\t('欸',2026)\t\t('不',3935)\t\t('嗎',2221)\t\t('？',2950)\t\t('要',3239)\t\t('！',1397)\t\t('有',2572)\t\t('去',2199)\t\t(' ',3073)\t\t('啊',2708)\t\t('照片',1823)\t\t('個',2504)\t\t('那',2521)\t\t('也',2104)\t\t('他',2415)\t\t('可以',2505)\t\t('很',2291)\t\t('在',2378)\t\t('喔',1406)\t\t('就',3023)\t\t('哈哈',3360)\t\t('說',1630)\t\t('還',1418)\t\t('但',1645)\t\t('看',1842)\t\t('我們',1558)\t\t('想',1613)\t\t('一',1702)\t\t('會',1515)\t\t('都',1716)\t\t('這',1237)\t\t('沒',1358)\t\t('對',1369)\t\t('跟',1339)\t\t('⋯',1604)\t\t('沒有',1134)\t\t('(',1197)\t\t(')',1195)\t\t('太',612)\t\t('ㄉ',865)\t\t('再',729)\t\t('還是',1062)\t\t('吧',1266)\t\t('知道',989)\t\t('好像',700)\t\t('哪',646)\t\t('覺得',1282)\t\t('給',510)\t\t('應該',874)\t\t('）',305)\t\t('明天',550)\t\t('到',538)\t\t('人',731)\t\t('啦',1023)\t\t('來',521)\t\t('（',302)\t\t('然後',643)\t\t('時間',571)\t\t('哈',681)\t\t('一下',420)\t\t('不要',720)\t\t('什麼',813)\t\t('話',279)\t\t('不會',567)\t\t('約',427)\t\t('這樣',544)\t\t('感覺',746)\t\t('下',375)\t\t('耶',662)\t\t('你們',293)\t\t('.',410)\t\t('兩',410)\t\t('一點',306)\t\t('上',321)\t\t('東西',294)\t\t('ㄚ',834)\t\t('時候',444)\t\t('比較',370)\t\t('自己',569)\t\t('一起',345)\t\t('可',397)\t\t('只是',729)\t\t('就是',550)\t\t('先',447)\t\t('可能',403)\t\t('把',363)\t\t('因為',336)\t\t('ㄇ',427)\t\t('喔喔',434)\t\t"
     ]
    }
   ],
   "source": [
    "for k in stopword1.keys():\n",
    "    v = stopword1[k]\n",
    "    print( \"('\", k, \"',\", v, ')', sep='', end='\\t\\t')"
   ]
  },
  {
   "cell_type": "markdown",
   "id": "8bcfa4b5",
   "metadata": {},
   "source": [
    "．檢查自設停用詞表與總分詞量的比例為0.54。"
   ]
  },
  {
   "cell_type": "code",
   "execution_count": 30,
   "id": "e8264a8c",
   "metadata": {},
   "outputs": [
    {
     "name": "stdout",
     "output_type": "stream",
     "text": [
      "0.5390424744963788\n"
     ]
    }
   ],
   "source": [
    "print(sum(stopword1.values())/(len(data_word1)+len(data_word2)+len(data_word3)+len(data_word4)+len(data_word5)))"
   ]
  },
  {
   "cell_type": "code",
   "execution_count": 31,
   "id": "f4adbd24",
   "metadata": {},
   "outputs": [],
   "source": [
    "f= open(\"stopword2-1.txt\",\"w+\")\n",
    "for k in stopword1.keys():\n",
    "    f.write(k + ',')\n",
    "f.close()"
   ]
  },
  {
   "cell_type": "markdown",
   "id": "490dfb5d",
   "metadata": {},
   "source": [
    "#### Stop Words(2.2)：df1-df5同時出現的詞"
   ]
  },
  {
   "cell_type": "code",
   "execution_count": 32,
   "id": "e191fece",
   "metadata": {},
   "outputs": [
    {
     "name": "stdout",
     "output_type": "stream",
     "text": [
      "501\n"
     ]
    }
   ],
   "source": [
    "for key, value in words1.items():\n",
    "    if key in words2 and key in words3 and key in words4 and key in words5:\n",
    "        v1 = words2[key]\n",
    "        v2 = words3[key]\n",
    "        v3 = words4[key]\n",
    "        v4 = words5[key]\n",
    "        stopword2.update({key:value+v1+v2+v3+v4})\n",
    "print(len(stopword2))"
   ]
  },
  {
   "cell_type": "code",
   "execution_count": 33,
   "id": "162bba76",
   "metadata": {},
   "outputs": [],
   "source": [
    "f= open(\"stopword2-4.txt\",\"w+\")\n",
    "for k in stopword2.keys():\n",
    "    f.write(k + ',')\n",
    "f.close()"
   ]
  },
  {
   "cell_type": "markdown",
   "id": "10d27ca8",
   "metadata": {},
   "source": [
    "．因Stop Words(2.1)含109分詞，也取出詞頻前109高的常見詞。"
   ]
  },
  {
   "cell_type": "code",
   "execution_count": 34,
   "id": "99b8a6df",
   "metadata": {
    "scrolled": false
   },
   "outputs": [
    {
     "name": "stdout",
     "output_type": "stream",
     "text": [
      "('我',15571)\t\t('的',7158)\t\t('你',5920)\t\t('是',4619)\t\t('了',4003)\t\t('不',3833)\t\t('哈哈',3457)\t\t(' ',3285)\t\t('好',3219)\t\t('要',3166)\t\t('就',3006)\t\t('[',2892)\t\t(']',2891)\t\t('？',2825)\t\t('啊',2587)\t\t('有',2560)\t\t('可以',2558)\t\t('個',2494)\t\t('那',2488)\t\t('在',2328)\t\t('他',2327)\t\t('很',2233)\t\t('嗎',2142)\t\t('去',2082)\t\t('也',2057)\t\t('～',1847)\t\t('欸',1843)\t\t('看',1798)\t\t('⋯',1776)\t\t('照片',1762)\t\t('一',1709)\t\t('都',1691)\t\t('但',1632)\t\t('想',1582)\t\t('說',1574)\t\t('我們',1570)\t\t('會',1491)\t\t('乾',1378)\t\t('還',1366)\t\t('對',1360)\t\t('沒',1340)\t\t('喔',1331)\t\t('！',1326)\t\t('笑死',1323)\t\t('跟',1321)\t\t('覺得',1294)\t\t('真的',1283)\t\t('吧',1231)\t\t('這',1225)\t\t('(',1218)\t\t(')',1216)\t\t('嗯',1144)\t\t('沒有',1114)\t\t('還是',1075)\t\t('貼圖',1069)\t\t('吃',1049)\t\t('啦',1008)\t\t('知道',964)\t\t('買',951)\t\t('應該',882)\t\t('ㄉ',863)\t\t('好好笑',854)\t\t('ㄚ',838)\t\t('什麼',805)\t\t('感覺',764)\t\t('再',737)\t\t('人',728)\t\t('只是',724)\t\t('現在',719)\t\t('不要',702)\t\t('好像',682)\t\t('哈',679)\t\t('超',675)\t\t('耶',656)\t\t('禮拜',648)\t\t('然後',643)\t\t('哪',618)\t\t('太',579)\t\t('ㄌ',578)\t\t('這樣',570)\t\t('自己',569)\t\t('不會',558)\t\t('ㄅ',558)\t\t('就是',554)\t\t('時間',552)\t\t('明天',534)\t\t('到',525)\t\t('今天',524)\t\t('來',512)\t\t('家',491)\t\t('給',483)\t\t('找',476)\t\t('又',460)\t\t('喔喔',457)\t\t('快',452)\t\t('先',449)\t\t('怎麼',446)\t\t('時候',434)\t\t"
     ]
    }
   ],
   "source": [
    "stopword2_most = Counter(stopword2).most_common(98)\n",
    "stopword2_most = dict(stopword2_most)\n",
    "for k in stopword2_most.keys():\n",
    "    v = stopword2_most[k]\n",
    "    print( \"('\", k, \"',\", v, ')', sep='', end='\\t\\t')"
   ]
  },
  {
   "cell_type": "code",
   "execution_count": 35,
   "id": "9d9059ee",
   "metadata": {
    "scrolled": true
   },
   "outputs": [
    {
     "name": "stdout",
     "output_type": "stream",
     "text": [
      "0.559238934094858\n"
     ]
    }
   ],
   "source": [
    "print(sum(stopword2_most.values())/(len(data_word1)+len(data_word2)+len(data_word3)+len(data_word4)+len(data_word5)))"
   ]
  },
  {
   "cell_type": "code",
   "execution_count": 36,
   "id": "780daf6f",
   "metadata": {},
   "outputs": [],
   "source": [
    "f= open(\"stopword2-2.txt\",\"w+\")\n",
    "for k in stopword2_most.keys():\n",
    "    f.write(k + ',')\n",
    "f.close()"
   ]
  },
  {
   "cell_type": "markdown",
   "id": "bc062446",
   "metadata": {},
   "source": [
    "＊比較Stop Words(2.1)、Stop Words(2.2)  \n",
    "1.Stop Words(2.1)有Stop Words(2.2)沒有的停用詞"
   ]
  },
  {
   "cell_type": "code",
   "execution_count": 37,
   "id": "57a2d449",
   "metadata": {
    "scrolled": true
   },
   "outputs": [
    {
     "name": "stdout",
     "output_type": "stream",
     "text": [
      "）\n",
      "（\n",
      "一下\n",
      "話\n",
      "約\n",
      "下\n",
      "你們\n",
      ".\n",
      "兩\n",
      "一點\n",
      "上\n",
      "東西\n",
      "比較\n",
      "一起\n",
      "可\n",
      "可能\n",
      "把\n",
      "因為\n",
      "ㄇ\n"
     ]
    }
   ],
   "source": [
    "stopword12 = {}\n",
    "for key, value in stopword1.items():\n",
    "    stopword12.update({key:value})\n",
    "    if key not in stopword2_most:\n",
    "        print(key)"
   ]
  },
  {
   "cell_type": "markdown",
   "id": "8fbc2837",
   "metadata": {},
   "source": [
    "2.Stop Words(2.1)有Stop Words(2.2)沒有的停用詞"
   ]
  },
  {
   "cell_type": "code",
   "execution_count": 38,
   "id": "004b521c",
   "metadata": {
    "scrolled": false
   },
   "outputs": [
    {
     "name": "stdout",
     "output_type": "stream",
     "text": [
      "～\n",
      "乾\n",
      "真的\n",
      "嗯\n",
      "貼圖\n",
      "吃\n",
      "買\n",
      "好好笑\n",
      "現在\n",
      "超\n",
      "禮拜\n",
      "ㄌ\n",
      "ㄅ\n",
      "今天\n",
      "家\n",
      "找\n",
      "又\n",
      "快\n",
      "怎麼\n"
     ]
    }
   ],
   "source": [
    "for key, value in stopword2_most.items():\n",
    "    if key not in stopword1:\n",
    "        stopword12.update({key:value})\n",
    "        print(key)"
   ]
  },
  {
   "cell_type": "markdown",
   "id": "11b0913a",
   "metadata": {},
   "source": [
    "#### Stop Words(2.3): Stop Words(2.1)、Stop Words(2.2)聯集"
   ]
  },
  {
   "cell_type": "code",
   "execution_count": 39,
   "id": "1234bb6e",
   "metadata": {},
   "outputs": [
    {
     "name": "stdout",
     "output_type": "stream",
     "text": [
      "('我',15827)\t  ('的',7337)\t  ('你',6140)\t  ('[',3105)\t  (']',3104)\t  ('了',4249)\t  ('好',3340)\t  ('是',4696)\t  ('笑死',1515)\t  ('欸',2026)\t  ('不',3935)\t  ('嗎',2221)\t  ('？',2950)\t  ('要',3239)\t  ('！',1397)\t  ('有',2572)\t  ('去',2199)\t  (' ',3073)\t  ('啊',2708)\t  ('照片',1823)\t  ('個',2504)\t  ('那',2521)\t  ('也',2104)\t  ('他',2415)\t  ('可以',2505)\t  ('很',2291)\t  ('在',2378)\t  ('喔',1406)\t  ('就',3023)\t  ('哈哈',3360)\t  ('說',1630)\t  ('還',1418)\t  ('但',1645)\t  ('看',1842)\t  ('我們',1558)\t  ('想',1613)\t  ('一',1702)\t  ('會',1515)\t  ('都',1716)\t  ('這',1237)\t  ('沒',1358)\t  ('對',1369)\t  ('跟',1339)\t  ('⋯',1604)\t  ('沒有',1134)\t  ('(',1197)\t  (')',1195)\t  ('太',612)\t  ('ㄉ',865)\t  ('再',729)\t  ('還是',1062)\t  ('吧',1266)\t  ('知道',989)\t  ('好像',700)\t  ('哪',646)\t  ('覺得',1282)\t  ('給',510)\t  ('應該',874)\t  ('）',305)\t  ('明天',550)\t  ('到',538)\t  ('人',731)\t  ('啦',1023)\t  ('來',521)\t  ('（',302)\t  ('然後',643)\t  ('時間',571)\t  ('哈',681)\t  ('一下',420)\t  ('不要',720)\t  ('什麼',813)\t  ('話',279)\t  ('不會',567)\t  ('約',427)\t  ('這樣',544)\t  ('感覺',746)\t  ('下',375)\t  ('耶',662)\t  ('你們',293)\t  ('.',410)\t  ('兩',410)\t  ('一點',306)\t  ('上',321)\t  ('東西',294)\t  ('ㄚ',834)\t  ('時候',444)\t  ('比較',370)\t  ('自己',569)\t  ('一起',345)\t  ('可',397)\t  ('只是',729)\t  ('就是',550)\t  ('先',447)\t  ('可能',403)\t  ('把',363)\t  ('因為',336)\t  ('ㄇ',427)\t  ('喔喔',434)\t  ('～',1847)\t  ('乾',1378)\t  ('真的',1283)\t  ('嗯',1144)\t  ('貼圖',1069)\t  ('吃',1049)\t  ('買',951)\t  ('好好笑',854)\t  ('現在',719)\t  ('超',675)\t  ('禮拜',648)\t  ('ㄌ',578)\t  ('ㄅ',558)\t  ('今天',524)\t  ('家',491)\t  ('找',476)\t  ('又',460)\t  ('快',452)\t  ('怎麼',446)\t  "
     ]
    }
   ],
   "source": [
    "for k in stopword12.keys():\n",
    "    v = stopword12[k]\n",
    "    print( \"('\", k, \"',\", v, ')', sep='', end='\\t  ')"
   ]
  },
  {
   "cell_type": "code",
   "execution_count": 70,
   "id": "c9d0d125",
   "metadata": {},
   "outputs": [
    {
     "name": "stdout",
     "output_type": "stream",
     "text": [
      "117\n"
     ]
    }
   ],
   "source": [
    "print(len(stopword12))"
   ]
  },
  {
   "cell_type": "code",
   "execution_count": 40,
   "id": "a8f3ef3e",
   "metadata": {},
   "outputs": [],
   "source": [
    "f= open(\"stopword2-3.txt\",\"w+\")\n",
    "for k in stopword12.keys():\n",
    "    f.write(k + ',')\n",
    "f.close()"
   ]
  },
  {
   "cell_type": "markdown",
   "id": "643c4cea",
   "metadata": {},
   "source": [
    "＊與自設停用詞表比較"
   ]
  },
  {
   "cell_type": "code",
   "execution_count": 41,
   "id": "62e73052",
   "metadata": {},
   "outputs": [
    {
     "name": "stdout",
     "output_type": "stream",
     "text": [
      "84\n"
     ]
    }
   ],
   "source": [
    "stopword = np.loadtxt( 'stopword.txt', dtype=str, delimiter=' ')\n",
    "print(len(stopword))"
   ]
  },
  {
   "cell_type": "markdown",
   "id": "e5a59f3d",
   "metadata": {},
   "source": [
    "1.Stop Words(2.1)自設停用詞表的共同停用詞"
   ]
  },
  {
   "cell_type": "code",
   "execution_count": 42,
   "id": "63bef895",
   "metadata": {},
   "outputs": [
    {
     "name": "stdout",
     "output_type": "stream",
     "text": [
      "ㄉ\tㄇ\tㄚ\t[\t]\t(\t)\t！\t因為\t還是\t然後\t這樣\t會\t覺得\t應該\t想\t說\t不\t不會\t沒有\t對\t可能\t感覺\t好像\t啊\t喔\t喔喔\t欸\t耶\t哈\t哈哈\t笑死\t東西\t一下\t先\t照片\t\n",
      "找出自設停用詞表 36 個詞\n"
     ]
    }
   ],
   "source": [
    "i=0\n",
    "for string in stopword:\n",
    "    if string in stopword1:\n",
    "        print(string, end='\\t')\n",
    "        i += 1;\n",
    "print( '\\n找出自設停用詞表', i, '個詞')"
   ]
  },
  {
   "cell_type": "markdown",
   "id": "c3210e99",
   "metadata": {},
   "source": [
    "2.Stop Words(2.2)自設停用詞表的共同停用詞"
   ]
  },
  {
   "cell_type": "code",
   "execution_count": 43,
   "id": "89e285f9",
   "metadata": {},
   "outputs": [
    {
     "name": "stdout",
     "output_type": "stream",
     "text": [
      "ㄉ\tㄌ\tㄅ\tㄚ\t[\t]\t(\t)\t！\t還是\t然後\t這樣\t怎麼\t會\t覺得\t應該\t想\t說\t不\t不會\t沒有\t對\t感覺\t好像\t啊\t喔\t喔喔\t嗯\t欸\t耶\t哈\t哈哈\t笑死\t好好笑\t先\t照片\t\n",
      "找出自設停用詞表 36 個詞\n"
     ]
    }
   ],
   "source": [
    "i=0\n",
    "for string in stopword:\n",
    "    if string in stopword2_most:\n",
    "        print(string, end='\\t')\n",
    "        i += 1;\n",
    "print( '\\n找出自設停用詞表', i, '個詞')"
   ]
  },
  {
   "cell_type": "markdown",
   "id": "b20c8a5b",
   "metadata": {},
   "source": [
    "3.Stop Words(2.1)自設停用詞表的共同停用詞"
   ]
  },
  {
   "cell_type": "code",
   "execution_count": 44,
   "id": "fc041c82",
   "metadata": {},
   "outputs": [
    {
     "name": "stdout",
     "output_type": "stream",
     "text": [
      "ㄉ\tㄌ\tㄅ\tㄇ\tㄚ\t[\t]\t(\t)\t！\t因為\t還是\t然後\t這樣\t怎麼\t會\t覺得\t應該\t想\t說\t不\t不會\t沒有\t對\t可能\t感覺\t好像\t啊\t喔\t喔喔\t嗯\t欸\t耶\t哈\t哈哈\t笑死\t好好笑\t東西\t一下\t先\t照片\t\n",
      "找出自設停用詞表 41 個詞\n"
     ]
    }
   ],
   "source": [
    "i=0\n",
    "for string in stopword:\n",
    "    if string in stopword12:\n",
    "        print(string, end='\\t')\n",
    "        i += 1;\n",
    "print( '\\n找出自設停用詞表', i, '個詞')"
   ]
  }
 ],
 "metadata": {
  "kernelspec": {
   "display_name": "Python 3 (ipykernel)",
   "language": "python",
   "name": "python3"
  },
  "language_info": {
   "codemirror_mode": {
    "name": "ipython",
    "version": 3
   },
   "file_extension": ".py",
   "mimetype": "text/x-python",
   "name": "python",
   "nbconvert_exporter": "python",
   "pygments_lexer": "ipython3",
   "version": "3.9.12"
  }
 },
 "nbformat": 4,
 "nbformat_minor": 5
}
