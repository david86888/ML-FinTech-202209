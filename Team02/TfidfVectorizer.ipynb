{
 "cells": [
  {
   "cell_type": "code",
   "execution_count": 1,
   "id": "6cc130ce",
   "metadata": {},
   "outputs": [],
   "source": [
    "import pandas as pd\n",
    "import numpy as np\n",
    "import seaborn as sns\n",
    "import matplotlib.pyplot as plt\n",
    "import jieba\n",
    "from jieba import analyse\n",
    "from collections import Counter\n",
    "import plotly.express as px\n",
    "from gensim import corpora, models\n",
    "from sklearn.feature_extraction.text import TfidfVectorizer\n",
    "from sklearn.cluster import KMeans"
   ]
  },
  {
   "cell_type": "code",
   "execution_count": 2,
   "id": "f27a1d38",
   "metadata": {},
   "outputs": [],
   "source": [
    "token1 = np.loadtxt( 'token1.txt', dtype=str, delimiter=',')\n",
    "token2 = np.loadtxt( 'token2.txt', dtype=str, delimiter=',')"
   ]
  },
  {
   "cell_type": "code",
   "execution_count": 17,
   "id": "0f9a4618",
   "metadata": {},
   "outputs": [],
   "source": [
    "keyword1 = np.loadtxt( 'keyword1.txt', dtype=str, delimiter=',')\n",
    "keyword2 = np.loadtxt( 'keyword2.txt', dtype=str, delimiter=',')"
   ]
  },
  {
   "cell_type": "markdown",
   "id": "46470af9",
   "metadata": {},
   "source": [
    "## Text Vector\n",
    "．TfidfVectorizer將文字轉換為數字代表該文字的TFIDF  "
   ]
  },
  {
   "cell_type": "code",
   "execution_count": 4,
   "id": "257cf35a",
   "metadata": {
    "scrolled": true
   },
   "outputs": [],
   "source": [
    "vectorizer = TfidfVectorizer()\n",
    "X1 = vectorizer.fit_transform( token1 )\n",
    "X2 = vectorizer.fit_transform( token2 )\n",
    "kmeans = KMeans(n_clusters=3)\n",
    "kmeans.fit(X1)\n",
    "clusters1 = kmeans.labels_\n",
    "kmeans.fit(X2)\n",
    "clusters2 = kmeans.labels_"
   ]
  },
  {
   "cell_type": "code",
   "execution_count": 5,
   "id": "a599561c",
   "metadata": {},
   "outputs": [],
   "source": [
    "def get_top_keywords(X, clusters, n_terms):\n",
    "    \"\"\"This function returns the keywords for each centroid of the KMeans\"\"\"\n",
    "    df = pd.DataFrame(X.todense()).groupby(clusters).mean() # groups the TF-IDF vector by cluster\n",
    "    terms = vectorizer.get_feature_names_out() # access tf-idf terms\n",
    "    for i,r in df.iterrows():\n",
    "        print('\\nCluster {}'.format(i))\n",
    "        print(','.join([terms[t] for t in np.argsort(r)[-n_terms:]])) # for each row of the dataframe, find the n terms that have the highest tf idf score"
   ]
  },
  {
   "cell_type": "markdown",
   "id": "8df4abcc",
   "metadata": {},
   "source": [
    "．利用除去停用詞後留下的分詞分群"
   ]
  },
  {
   "cell_type": "code",
   "execution_count": 6,
   "id": "45382e67",
   "metadata": {
    "scrolled": true
   },
   "outputs": [
    {
     "name": "stdout",
     "output_type": "stream",
     "text": [
      "\n",
      "Cluster 0\n",
      "期待,偷懶,插播,三件,框框,最近,進去\n",
      "\n",
      "Cluster 1\n",
      "天氣,大部分,大耳,大概,好惹,長好,膠帶\n",
      "\n",
      "Cluster 2\n",
      "天氣,大部分,大耳,大概,好惹,長好,自備\n"
     ]
    }
   ],
   "source": [
    "get_top_keywords(X1, clusters1, 7)"
   ]
  },
  {
   "cell_type": "code",
   "execution_count": 7,
   "id": "e9b9f681",
   "metadata": {
    "scrolled": false
   },
   "outputs": [
    {
     "name": "stdout",
     "output_type": "stream",
     "text": [
      "\n",
      "Cluster 0\n",
      "不用,價錢,攤位,衣架,大家,桌子,衣服\n",
      "\n",
      "Cluster 1\n",
      "好惹,好好,好喝,好可愛,好醜,騎車,野餐墊\n",
      "\n",
      "Cluster 2\n",
      "好扯,好惹,好好,好喝,好可愛,啤酒,如果\n"
     ]
    }
   ],
   "source": [
    "get_top_keywords(X2, clusters2, 7)"
   ]
  },
  {
   "cell_type": "code",
   "execution_count": 18,
   "id": "af764b61",
   "metadata": {},
   "outputs": [],
   "source": [
    "X3 = vectorizer.fit_transform( keyword1 )\n",
    "kmeans.fit(X3)\n",
    "clusters3 = kmeans.labels_\n",
    "X4 = vectorizer.fit_transform( keyword2 )\n",
    "kmeans.fit(X4)\n",
    "clusters4 = kmeans.labels_"
   ]
  },
  {
   "cell_type": "markdown",
   "id": "e4002c2e",
   "metadata": {},
   "source": [
    "．除去停用詞後，加上TEIDF、詞頻篩選出的分詞（文字雲上較大字樣的分詞）分群"
   ]
  },
  {
   "cell_type": "code",
   "execution_count": 19,
   "id": "19216695",
   "metadata": {},
   "outputs": [
    {
     "name": "stdout",
     "output_type": "stream",
     "text": [
      "\n",
      "Cluster 0\n",
      "右邊,吊衣桿,同一,和室桌,啊啊,公館,目前\n",
      "\n",
      "Cluster 1\n",
      "吊衣桿,同一,和室桌,啊啊,公館,目前,他們\n",
      "\n",
      "Cluster 2\n",
      "右邊,吊衣桿,同一,和室桌,價錢,目前,方便\n"
     ]
    }
   ],
   "source": [
    "get_top_keywords(X3, clusters3, 7)"
   ]
  },
  {
   "cell_type": "code",
   "execution_count": 20,
   "id": "a7b0836d",
   "metadata": {},
   "outputs": [
    {
     "name": "stdout",
     "output_type": "stream",
     "text": [
      "\n",
      "Cluster 0\n",
      "地板,多少,大家,大概,好了,可愛,雖然\n",
      "\n",
      "Cluster 1\n",
      "地板,多少,大家,大概,好笑,雖然,拿出來\n",
      "\n",
      "Cluster 2\n",
      "多少,大家,大概,好了,野餐墊,雖然,吊衣桿\n"
     ]
    }
   ],
   "source": [
    "get_top_keywords(X4, clusters4, 7)"
   ]
  }
 ],
 "metadata": {
  "kernelspec": {
   "display_name": "Python 3 (ipykernel)",
   "language": "python",
   "name": "python3"
  },
  "language_info": {
   "codemirror_mode": {
    "name": "ipython",
    "version": 3
   },
   "file_extension": ".py",
   "mimetype": "text/x-python",
   "name": "python",
   "nbconvert_exporter": "python",
   "pygments_lexer": "ipython3",
   "version": "3.9.12"
  }
 },
 "nbformat": 4,
 "nbformat_minor": 5
}
